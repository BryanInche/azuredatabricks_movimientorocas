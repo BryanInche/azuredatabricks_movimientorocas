{
 "cells": [
  {
   "cell_type": "markdown",
   "metadata": {
    "application/vnd.databricks.v1+cell": {
     "cellMetadata": {},
     "inputWidgets": {},
     "nuid": "3db42b8f-7f75-485d-8775-de36109671cd",
     "showTitle": false,
     "title": ""
    }
   },
   "source": [
    "# *1. Cargamos los datos desde el Storage (PROCESSED) \"Tabla DELTA\" para realizar la ingenieria de caracteristicas*"
   ]
  },
  {
   "cell_type": "code",
   "execution_count": 0,
   "metadata": {
    "application/vnd.databricks.v1+cell": {
     "cellMetadata": {
      "byteLimit": 2048000,
      "rowLimit": 10000
     },
     "inputWidgets": {},
     "nuid": "1d60b8ac-d778-4de8-a197-5441833ebd06",
     "showTitle": false,
     "title": ""
    }
   },
   "outputs": [],
   "source": [
    "df_delta = spark.read.format(\"delta\").load(\"/mnt/datalakemlopsd4m/processed/datos_turno1_deltavf\")\n",
    "df_delta.show()"
   ]
  },
  {
   "cell_type": "markdown",
   "metadata": {
    "application/vnd.databricks.v1+cell": {
     "cellMetadata": {},
     "inputWidgets": {},
     "nuid": "40368899-1e28-4d91-bcdc-4a26137a14df",
     "showTitle": false,
     "title": ""
    }
   },
   "source": [
    "Convertimos el dataframe spark, a un DF de pandas, para realizar el trabajo"
   ]
  },
  {
   "cell_type": "code",
   "execution_count": 0,
   "metadata": {
    "application/vnd.databricks.v1+cell": {
     "cellMetadata": {
      "byteLimit": 2048000,
      "rowLimit": 10000
     },
     "inputWidgets": {},
     "nuid": "6c5635de-f7b5-4328-a10c-a320f4346896",
     "showTitle": false,
     "title": ""
    }
   },
   "outputs": [],
   "source": [
    "df_pandasvf = df_delta.toPandas()\n",
    "df_pandasvf.head()"
   ]
  }
 ],
 "metadata": {
  "application/vnd.databricks.v1+notebook": {
   "dashboards": [],
   "language": "python",
   "notebookMetadata": {
    "pythonIndentUnit": 4
   },
   "notebookName": "4.feature_engineer",
   "widgets": {}
  }
 },
 "nbformat": 4,
 "nbformat_minor": 0
}
