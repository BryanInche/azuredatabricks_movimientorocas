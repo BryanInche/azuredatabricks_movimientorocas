{
 "cells": [
  {
   "cell_type": "code",
   "execution_count": 0,
   "metadata": {
    "application/vnd.databricks.v1+cell": {
     "cellMetadata": {
      "byteLimit": 2048000,
      "rowLimit": 10000
     },
     "inputWidgets": {},
     "nuid": "ebb6a39d-e30d-4389-9a3a-0438f0fc7dec",
     "showTitle": false,
     "title": ""
    }
   },
   "outputs": [],
   "source": [
    "import pandas as pd\n",
    "from sklearn.model_selection import train_test_split\n",
    "from sklearn.linear_model import LinearRegression\n",
    "from sklearn import metrics\n",
    "import statsmodels.api as sm\n",
    "import matplotlib.pyplot as plt\n",
    "import seaborn as sns\n",
    "import numpy as np\n",
    "from sklearn.ensemble import RandomForestRegressor\n",
    "from sklearn.metrics import mean_squared_error, r2_score\n",
    "import xgboost as xgb\n",
    "from sklearn.model_selection import GridSearchCV\n",
    "from sklearn.svm import SVR\n",
    "\n",
    "import streamlit as st\n",
    "import joblib"
   ]
  },
  {
   "cell_type": "code",
   "execution_count": 0,
   "metadata": {
    "application/vnd.databricks.v1+cell": {
     "cellMetadata": {},
     "inputWidgets": {},
     "nuid": "fb485a24-f15d-46db-b359-a7d03e0fee8c",
     "showTitle": false,
     "title": ""
    }
   },
   "outputs": [],
   "source": [
    "#Librerias para redes neuronales(secuencial)\n",
    "from tensorflow.keras.models import Sequential\n",
    "#Capa completamente conectada\n",
    "from tensorflow.keras.layers import Dense, Normalization\n",
    "#Optimizador\n",
    "from tensorflow.keras.optimizers import Adam\n",
    "from sklearn.preprocessing import StandardScaler"
   ]
  },
  {
   "cell_type": "markdown",
   "metadata": {
    "application/vnd.databricks.v1+cell": {
     "cellMetadata": {},
     "inputWidgets": {},
     "nuid": "6c76e3f4-0997-44cf-90c8-c9fb5e706b59",
     "showTitle": false,
     "title": ""
    }
   },
   "source": [
    "Modelo Prediccion Pases (XGB)"
   ]
  },
  {
   "cell_type": "code",
   "execution_count": 0,
   "metadata": {
    "application/vnd.databricks.v1+cell": {
     "cellMetadata": {},
     "inputWidgets": {},
     "nuid": "26d16314-9aac-4a7d-a2dd-bcbe280b85c9",
     "showTitle": false,
     "title": ""
    }
   },
   "outputs": [],
   "source": [
    "import joblib\n",
    "import numpy as np\n",
    "\n",
    "\n",
    "# Variables a traer de la BD de la Operacion\n",
    "\n",
    "# Variable 1\n",
    "al_termino_cargar_en_espera_cuadrado_cuadrandose = True   # Completar este valor con lo que se tiene en el registro o fila de lo que traigamos de la Operacion\n",
    "\n",
    "tiene_camion_cuadrado = al_termino_cargar_en_espera_cuadrado_cuadrandose\n",
    "\n",
    "# Variable 2 \n",
    "capacidad_en_volumen_equipo_acarreo_m3 = 129 # Completar este valor con lo que se tiene en el registro o fila de lo que traigamos de la Operacion\n",
    "\n",
    "# Variable 3\n",
    "##En porcentaje, se define cual es el factor de llenado en peso, que es manejado mas por el expertise del Operador (Por el momento se mantiene asi)\n",
    "factor_llenado_peso = 0.9   # Sera constante por el momento\n",
    "\n",
    "# Variable 4\n",
    "#En porcentaje, se define cual es el factor de llenado en peso, que es manejado mas por el expertise del Operador (Por el momento se mantiene asi)\n",
    "factor_llenado_volumen = 0.9  # Sera constante por el momento\n",
    "\n",
    "#-----------------------------------------------------------------------------------------------------------------------------------------------------\n",
    "# Cargamos  el modelo y su scaler para normalizacion guardado (entrenado y listo para predecir)\n",
    "model_xgb = joblib.load('modelo_xgb_6var_N.pkl')\n",
    "scaler = joblib.load('scaler_modelo_xgb_6var_N.pkl')\n",
    "\n",
    "# Variables a traer de la BD de la Operacion  (En particular estas variables serviran para que el Modelo haga la prediccion de pases, 6 variables)\n",
    "capacidad_en_volumen_equipo_carguio_m3 = 27  # Variable 5\n",
    "capacidad_en_peso_equipo_carguio = 40   # Variable 6\n",
    "capacidad_en_peso_equipo_acarreo = 229  # Variable 7\n",
    "tonelaje_camion_antes_cargaestabilizada = 34  # Variable 8\n",
    "angulo_giro_promedio_pases = 90    # Variable 9\n",
    "densidad_inicial_poligono_creado_tn_m3 = 1.9    # Variable 10\n",
    "\n",
    "\n",
    "# Crear un array con los valores de las variables\n",
    "input_features = np.array([[capacidad_en_volumen_equipo_carguio_m3, capacidad_en_peso_equipo_carguio, capacidad_en_peso_equipo_acarreo, \n",
    "                            tonelaje_camion_antes_cargaestabilizada, angulo_giro_promedio_pases, densidad_inicial_poligono_creado_tn_m3]])\n",
    "\n",
    "# Normalizar los datos de entrada del usuario\n",
    "input_features_normalized = scaler.transform(input_features)\n",
    "\n",
    "# Realizar la predicción utilizando el modelo cargado\n",
    "prediction = model_xgb.predict(input_features_normalized)\n",
    "\n",
    "# Finalmente la prediccion de pases, se almacena en esta variable\n",
    "rounded_prediction = np.round(prediction).astype('int64')\n",
    "\n",
    "rounded_prediction = rounded_prediction + 2\n",
    "#---------------------------------------------------------------------------------------------------------------------------------------------------------------\n",
    "\n",
    "# Variables a traer de la BD de la Operacion\n",
    "\n",
    "# Variable 11\n",
    "# En producccion, este valor debera ser reemplazado por el tonelaje que acumula el equipo durante la carga, en tiempo real (dato que sale del equipo)\n",
    "tonelaje_acumulado_anterior_carga = float(capacidad_en_peso_equipo_carguio * (rounded_prediction - 1))  # Variable calculada \n",
    "\n",
    "# Variable 12\n",
    "#En producccion, este valor debera ser reemplazado por el tonelaje que acumula el equipo durante la carga, en tiempo real (dato que sale del equipo)\n",
    "tonelaje_acumulado_carga = float(capacidad_en_peso_equipo_carguio * (rounded_prediction))   # Variable calculada\n",
    "\n",
    "# Variable 13\n",
    "# Variable que se completo de acuerdo al expertise, pero puedo cambiar en las operaciones\n",
    "payload = 1.05     # Sera constante por el momento\n",
    "\n",
    "# Variable 14\n",
    "# Variable que se completo de acuerdo al expertise, pero puedo cambiar en las operaciones\n",
    "capacidad_llenado_vol = 1.05  # Sera constante por el momento\n",
    "\n",
    "\n",
    "# Algoritmo Matematico (Logica para Aumentar O No un Pase Adicional)\n",
    "\n",
    "#Condicional para hallar la variable calculada \"cargado_real_cuchara_ton\"\n",
    "if (capacidad_en_peso_equipo_carguio * factor_llenado_peso / densidad_inicial_poligono_creado_tn_m3) > (capacidad_en_volumen_equipo_carguio_m3 * factor_llenado_volumen):\n",
    "    cargado_real_cuchara_ton = capacidad_en_volumen_equipo_carguio_m3 * densidad_inicial_poligono_creado_tn_m3 * factor_llenado_volumen\n",
    "else:\n",
    "    cargado_real_cuchara_ton = capacidad_en_peso_equipo_carguio * factor_llenado_peso\n",
    "\n",
    "\n",
    "# Variable 15 \n",
    "pases_depositados = tonelaje_acumulado_carga / cargado_real_cuchara_ton    #Variable calculada\n",
    "\n",
    "\n",
    "#Condicional para hallar la variable calculada \"calculo_promedio_densidad_ton_m3\"\n",
    "if (capacidad_en_volumen_equipo_carguio_m3 == 0 ):\n",
    "    calculo_promedio_densidad_ton_m3 = densidad_inicial_poligono_creado_tn_m3\n",
    "else:\n",
    "    calculo_promedio_densidad_ton_m3 = densidad_inicial_poligono_creado_tn_m3 * (tonelaje_acumulado_carga - tonelaje_acumulado_anterior_carga) / cargado_real_cuchara_ton \n",
    "\n",
    "densidad_material_pase_ton_m3 = np.mean([densidad_inicial_poligono_creado_tn_m3, calculo_promedio_densidad_ton_m3, tonelaje_acumulado_carga/(capacidad_en_volumen_equipo_carguio_m3 * pases_depositados)])\n",
    "\n",
    "\n",
    "#Condicional para hallar la variable calculada \"tonelaje_requerido_camion_ton\"\n",
    "if ((capacidad_en_peso_equipo_acarreo * payload) / densidad_material_pase_ton_m3 >  capacidad_en_volumen_equipo_acarreo_m3 * capacidad_llenado_vol ):\n",
    "    tonelaje_requerido_camion_ton = capacidad_en_volumen_equipo_acarreo_m3 * densidad_material_pase_ton_m3 * capacidad_llenado_vol\n",
    "else:\n",
    "    tonelaje_requerido_camion_ton = capacidad_en_peso_equipo_acarreo * payload\n",
    "\n",
    "\n",
    "# Variable 16 \n",
    "numero_cucharadas_requeridos = round(tonelaje_requerido_camion_ton / cargado_real_cuchara_ton, 2)  # Variable calculada\n",
    "\n",
    "# Variable 17 ( es una variable calculada que ayudara a indicar si se Necesita o No un pase adicional)\n",
    "diferencia = numero_cucharadas_requeridos - pases_depositados \n",
    "\n",
    "\n",
    "#Condicional para indicar si se \"Necesita o No\" 1 pase adicional\n",
    "if tiene_camion_cuadrado is True:\n",
    "    if diferencia > 0.8:\n",
    "        necesita_un_pase_mas = True\n",
    "    else:\n",
    "        necesita_un_pase_mas = False\n",
    "else:\n",
    "    if diferencia > 0.2:\n",
    "        necesita_un_pase_mas = True\n",
    "    else:\n",
    "        necesita_un_pase_mas = False\n",
    "\n",
    "# Mostrar el resultado\n",
    "print(\"¿Necesita un pase más?:\", necesita_un_pase_mas)"
   ]
  },
  {
   "cell_type": "code",
   "execution_count": 0,
   "metadata": {
    "application/vnd.databricks.v1+cell": {
     "cellMetadata": {},
     "inputWidgets": {},
     "nuid": "8ec741dc-ff30-47f3-b91d-ba79554b692f",
     "showTitle": false,
     "title": ""
    }
   },
   "outputs": [],
   "source": [
    "rounded_prediction"
   ]
  },
  {
   "cell_type": "markdown",
   "metadata": {
    "application/vnd.databricks.v1+cell": {
     "cellMetadata": {},
     "inputWidgets": {},
     "nuid": "c2e9284d-a6de-47ee-84af-e1183c3603c1",
     "showTitle": false,
     "title": ""
    }
   },
   "source": [
    "Modelo Matematico (Necesita 1 pase mas? Si/No)"
   ]
  },
  {
   "cell_type": "code",
   "execution_count": 0,
   "metadata": {
    "application/vnd.databricks.v1+cell": {
     "cellMetadata": {},
     "inputWidgets": {},
     "nuid": "21506c1f-6e88-4a7d-abde-8a38a6e71003",
     "showTitle": false,
     "title": ""
    }
   },
   "outputs": [],
   "source": [
    "datos = pd.read_csv('datos_modelo_qwin1.csv', parse_dates=['tiempo_llegada_camion'], date_parser=lambda x: pd.to_datetime(x, format='%Y-%m-%d %H:%M:%S.%f%z'))\n",
    "datos.head(1)"
   ]
  },
  {
   "cell_type": "code",
   "execution_count": 0,
   "metadata": {
    "application/vnd.databricks.v1+cell": {
     "cellMetadata": {},
     "inputWidgets": {},
     "nuid": "a97b0195-64d2-4af3-bb82-7acbdf4f5c91",
     "showTitle": false,
     "title": ""
    }
   },
   "outputs": [],
   "source": [
    "datos = datos[['capacidad_en_volumen_equipo_carguio_m3',\n",
    "'capacidad_en_peso_equipo_carguio',\n",
    "'capacidad_en_peso_equipo_acarreo',\n",
    "'angulo_giro_promedio_pases',\n",
    "'densidad_inicial_poligono_creado_tn/m3', \n",
    "'al_termino_cargar_en_espera_cuadrado_cuadrandose']]"
   ]
  },
  {
   "cell_type": "markdown",
   "metadata": {
    "application/vnd.databricks.v1+cell": {
     "cellMetadata": {},
     "inputWidgets": {},
     "nuid": "9e29e44e-e485-4dc5-8c16-9289ceca2806",
     "showTitle": false,
     "title": ""
    }
   },
   "source": [
    "--Tiene Camión Cuadrado-- = 'al_termino_cargar_en_espera_cuadrado_cuadrandose' (O calcular apartir de la columna tiempo_cuadrado y tiempo cargando pala)\n",
    "\n",
    "--Numero de cucharadas Requeridos--  = prediction  \n",
    "\n",
    "#--Factor de llenado volumen-- = Cargado Real Cuchara (ton) / (--Densidad Material PASE (ton/m3)-- * 'capacidad_en_volumen_equipo_carguio_m3' )\n",
    "\n",
    "--Factor de llenado volumen-- = 90%\n",
    "\n",
    "#--Factor de llenado peso-- = Cargado Real Cuchara (ton) / 'capacidad_en_peso_equipo_carguio'\n",
    "\n",
    "--Factor de llenado peso-- = 90%\n",
    "\n",
    "\n",
    "--Cargado Real Cuchara (ton)-- = si('capacidad_en_peso_equipo_carguio' * --Factor de llenado peso-- /'densidad_inicial_poligono_creado_tn/m3' > 'capacidad_en_volumen_equipo_carguio_m3' * --Factor de llenado volumen--\n",
    ", 'capacidad_en_volumen_equipo_carguio_m3' * 'densidad_inicial_poligono_creado_tn/m3'* --Factor de llenado volumen-- , 'capacidad_en_peso_equipo_carguio' * --Factor de llenado peso--)\n",
    "                               \n",
    "                              \n",
    "--Pases Depositados-- =  --Tonelaje Acumulado Carga-- / --Cargado Real Cuchara (ton)--\n",
    "\n",
    "--Necesita Un Pase Más-- = si(--Tiene Camión Cuadrado-- = TRUE, SI (--Numero de cucharadas Requeridos-- - --Pases Depositados-- > 0.8 , TRUE, FALSE), \n",
    "                          SI(--Numero de cucharadas Requeridos-- - Pases Depositados > 0.2 , TRUE, FALSE))"
   ]
  },
  {
   "cell_type": "code",
   "execution_count": 0,
   "metadata": {
    "application/vnd.databricks.v1+cell": {
     "cellMetadata": {},
     "inputWidgets": {},
     "nuid": "73473b17-1255-4e0d-843e-c29d953bfd9e",
     "showTitle": false,
     "title": ""
    }
   },
   "outputs": [],
   "source": [
    "# Cambiar el nombre de la columna 'antiguo_nombre' a 'nuevo_nombre'\n",
    "datos.rename(columns={'al_termino_cargar_en_espera_cuadrado_cuadrandose': 'tiene_camion_cuadrado'}, inplace=True)"
   ]
  },
  {
   "cell_type": "code",
   "execution_count": 0,
   "metadata": {
    "application/vnd.databricks.v1+cell": {
     "cellMetadata": {},
     "inputWidgets": {},
     "nuid": "a7ad8951-2c05-465f-925d-5bed3eee5cff",
     "showTitle": false,
     "title": ""
    }
   },
   "outputs": [],
   "source": [
    "# Variables\n",
    "\n",
    "tiene_camion_cuadrado = datos['tiene_camion_cuadrado'].iloc[0]\n",
    "\n",
    "capacidad_en_volumen_equipo_acarreo_m3 = datos['capacidad_en_volumen_equipo_acarreo_m3'].iloc[0]\n",
    "\n",
    "\n",
    "##En porcentaje, se define cual es el factor de llenado en peso, que es manejado mas por el expertise del Operador (Por el momento se mantiene asi)\n",
    "factor_llenado_peso = 0.9\n",
    "\n",
    "#En porcentaje, se define cual es el factor de llenado en peso, que es manejado mas por el expertise del Operador (Por el momento se mantiene asi)\n",
    "factor_llenado_volumen = 0.9\n",
    "\n",
    "\n",
    "# En producccion, este valor debera ser reemplazado por el tonelaje que acumula el equipo durante la carga, en tiempo real (dato que sale del equipo)\n",
    "tonelaje_acumulado_anterior_carga = float(capacidad_en_peso_equipo_carguio * (rounded_prediction - 1))\n",
    "\n",
    "#En producccion, este valor debera ser reemplazado por el tonelaje que acumula el equipo durante la carga, en tiempo real (dato que sale del equipo)\n",
    "tonelaje_acumulado_carga = float(capacidad_en_peso_equipo_carguio * (rounded_prediction))\n",
    "\n",
    "# Variable que se completo de acuerdo al expertise, pero puedo cambiar en las operaciones\n",
    "payload = 1.05\n",
    "\n",
    "# Variable que se completo de acuerdo al expertise, pero puedo cambiar en las operaciones\n",
    "capacidad_llenado_vol = 1.05 \n",
    "\n",
    "\n",
    "#Condicional\n",
    "\n",
    "if (capacidad_en_peso_equipo_carguio * factor_llenado_peso / densidad_inicial_poligono_creado_tn_m3) > (capacidad_en_volumen_equipo_carguio_m3 * factor_llenado_volumen):\n",
    "    cargado_real_cuchara_ton = capacidad_en_volumen_equipo_carguio_m3 * densidad_inicial_poligono_creado_tn_m3 * factor_llenado_volumen\n",
    "else:\n",
    "    cargado_real_cuchara_ton = capacidad_en_peso_equipo_carguio * factor_llenado_peso\n",
    "\n",
    "\n",
    "pases_depositados = tonelaje_acumulado_carga / cargado_real_cuchara_ton\n",
    "\n",
    "\n",
    "if (capacidad_en_volumen_equipo_carguio_m3 == 0 ):\n",
    "    calculo_promedio_densidad_ton_m3 = densidad_inicial_poligono_creado_tn_m3\n",
    "else:\n",
    "    calculo_promedio_densidad_ton_m3 = densidad_inicial_poligono_creado_tn_m3 * (tonelaje_acumulado_carga - tonelaje_acumulado_anterior_carga) / cargado_real_cuchara_ton \n",
    "\n",
    "densidad_material_pase_ton_m3 = np.mean([densidad_inicial_poligono_creado_tn_m3, calculo_promedio_densidad_ton_m3, tonelaje_acumulado_carga/(capacidad_en_volumen_equipo_carguio_m3 * pases_depositados)])\n",
    "\n",
    "\n",
    "\n",
    "if ((capacidad_en_peso_equipo_acarreo * payload) / densidad_material_pase_ton_m3 >  capacidad_en_volumen_equipo_acarreo_m3 * capacidad_llenado_vol ):\n",
    "    tonelaje_requerido_camion_ton = capacidad_en_volumen_equipo_acarreo_m3 * densidad_material_pase_ton_m3 * capacidad_llenado_vol\n",
    "else:\n",
    "    tonelaje_requerido_camion_ton = capacidad_en_peso_equipo_acarreo * payload\n",
    "\n",
    "\n",
    "# Realizar la predicción utilizando el modelo cargado\n",
    "numero_cucharadas_requeridos = round(tonelaje_requerido_camion_ton / cargado_real_cuchara_ton, 2)\n",
    "\n",
    "# formula \n",
    "diferencia = numero_cucharadas_requeridos - pases_depositados \n",
    "\n",
    "\n",
    "# Aplicar la condición utilizando if-else\n",
    "if tiene_camion_cuadrado is True:\n",
    "    if diferencia > 0.8:\n",
    "        necesita_un_pase_mas = True\n",
    "    else:\n",
    "        necesita_un_pase_mas = False\n",
    "else:\n",
    "    if diferencia > 0.2:\n",
    "        necesita_un_pase_mas = True\n",
    "    else:\n",
    "        necesita_un_pase_mas = False\n",
    "\n",
    "# Mostrar el resultado\n",
    "print(\"¿Necesita un pase más?:\", necesita_un_pase_mas)"
   ]
  }
 ],
 "metadata": {
  "application/vnd.databricks.v1+notebook": {
   "dashboards": [],
   "language": "python",
   "notebookMetadata": {
    "pythonIndentUnit": 4
   },
   "notebookName": "5.ModeloXGB_mas_modelMate",
   "widgets": {}
  },
  "kernelspec": {
   "display_name": "base",
   "language": "python",
   "name": "python3"
  },
  "language_info": {
   "codemirror_mode": {
    "name": "ipython",
    "version": 3
   },
   "file_extension": ".py",
   "mimetype": "text/x-python",
   "name": "python",
   "nbconvert_exporter": "python",
   "pygments_lexer": "ipython3",
   "version": "3.11.5"
  }
 },
 "nbformat": 4,
 "nbformat_minor": 0
}
