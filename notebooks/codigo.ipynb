{
 "cells": [
  {
   "cell_type": "markdown",
   "metadata": {
    "application/vnd.databricks.v1+cell": {
     "cellMetadata": {
      "byteLimit": 2048000,
      "rowLimit": 10000
     },
     "inputWidgets": {},
     "nuid": "85e8ed75-c49d-4e99-b6f6-29fa9fad0bed",
     "showTitle": false,
     "title": ""
    }
   },
   "source": [
    "## Librerias que se utilizaran en las etapas de : Compresion de Datos y Preparacion de datos"
   ]
  },
  {
   "cell_type": "code",
   "execution_count": 0,
   "metadata": {
    "application/vnd.databricks.v1+cell": {
     "cellMetadata": {
      "byteLimit": 2048000,
      "rowLimit": 10000
     },
     "inputWidgets": {},
     "nuid": "18f7bb0b-8ab9-48ab-a418-1844622dd9eb",
     "showTitle": false,
     "title": ""
    }
   },
   "outputs": [],
   "source": [
    "#Librerias que se usaran\n",
    "import pandas as pd  # Libreria para administrar tablas, y realizar trabajos con distintas formas de tablas o dataframes\n",
    "import numpy as np   # Libreria para poder hacer operaciones matematicas y matriciales\n",
    "import matplotlib.pyplot as plt # Libreria para realizar graficos \n",
    "from tabulate import tabulate   # Permite formatear y mostrar de mejor manera los datos tabulares\n",
    "import seaborn as sns  # Libreria para realizar graficos y vizualizaciones\n",
    "import psycopg2        # Libreria que permite la conexion con PostgresSQL\n",
    "from matplotlib.backends.backend_pdf import PdfPages # Libreria que permite exportar graficos en pdf"
   ]
  },
  {
   "cell_type": "code",
   "execution_count": 0,
   "metadata": {
    "application/vnd.databricks.v1+cell": {
     "cellMetadata": {
      "byteLimit": 2048000,
      "rowLimit": 10000
     },
     "inputWidgets": {},
     "nuid": "18b5a17d-dd9f-4bc3-88b9-5c8c01e30109",
     "showTitle": false,
     "title": ""
    }
   },
   "outputs": [],
   "source": [
    "#!pip install --upgrade pip"
   ]
  },
  {
   "cell_type": "markdown",
   "metadata": {
    "application/vnd.databricks.v1+cell": {
     "cellMetadata": {},
     "inputWidgets": {},
     "nuid": "6a5ba291-2e3d-4b05-b482-941afd57210d",
     "showTitle": false,
     "title": ""
    }
   },
   "source": [
    "# **1. Comprensión de los Datos**"
   ]
  },
  {
   "cell_type": "markdown",
   "metadata": {
    "application/vnd.databricks.v1+cell": {
     "cellMetadata": {},
     "inputWidgets": {},
     "nuid": "a7ed35ec-8a94-4aec-80c0-73d95f880b00",
     "showTitle": false,
     "title": ""
    }
   },
   "source": [
    "### *1.1 Cargamos los datos para realizar la comprension y preparacion de datos*"
   ]
  },
  {
   "cell_type": "code",
   "execution_count": 0,
   "metadata": {
    "application/vnd.databricks.v1+cell": {
     "cellMetadata": {
      "byteLimit": 2048000,
      "rowLimit": 10000
     },
     "inputWidgets": {},
     "nuid": "aaacf142-d7b2-48a1-a2ee-fdc4da764127",
     "showTitle": false,
     "title": ""
    }
   },
   "outputs": [],
   "source": [
    "#Configuramos pandas para que podamos vizualizar todas las columnas y filas la estadistica descriptiva de todas las variables\n",
    "pd.set_option('display.max_columns', None)\n",
    "pd.set_option('display.expand_frame_repr', False)\n",
    "pd.set_option('display.max_colwidth', None)\n",
    "pd.set_option('display.max_rows', None)\n",
    "pd.set_option('display.width', None)\n",
    "#Configuramos pandas para que lanze valores con una precision de hasta 6 decimales\n",
    "pd.set_option('display.float_format', '{:.6f}'.format)\n",
    "# Restaurar la configuración predeterminada\n",
    "#pd.set_option('display.float_format', None)"
   ]
  },
  {
   "cell_type": "code",
   "execution_count": 0,
   "metadata": {
    "application/vnd.databricks.v1+cell": {
     "cellMetadata": {},
     "inputWidgets": {},
     "nuid": "ac1a4590-16b6-4b8a-817a-dde395bdc293",
     "showTitle": false,
     "title": ""
    }
   },
   "outputs": [],
   "source": [
    "datos = pd.read_csv('datos_turno1_vf.csv')\n",
    "datos.head(1)"
   ]
  }
 ],
 "metadata": {
  "application/vnd.databricks.v1+notebook": {
   "dashboards": [],
   "language": "python",
   "notebookMetadata": {
    "pythonIndentUnit": 4
   },
   "notebookName": "codigo",
   "widgets": {}
  }
 },
 "nbformat": 4,
 "nbformat_minor": 0
}
