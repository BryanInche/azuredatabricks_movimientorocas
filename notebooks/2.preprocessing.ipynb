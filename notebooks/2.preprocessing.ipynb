{
 "cells": [
  {
   "cell_type": "code",
   "execution_count": 0,
   "metadata": {
    "application/vnd.databricks.v1+cell": {
     "cellMetadata": {
      "byteLimit": 2048000,
      "rowLimit": 10000
     },
     "inputWidgets": {},
     "nuid": "75f71e07-e80c-47cd-a0e5-295ed586470b",
     "showTitle": false,
     "title": ""
    }
   },
   "outputs": [],
   "source": [
    "import pandas as pd\n",
    "#Configuramos pandas para que podamos vizualizar todas las columnas y filas la estadistica descriptiva de todas las variables\n",
    "pd.set_option('display.max_columns', None)\n",
    "pd.set_option('display.expand_frame_repr', False)\n",
    "pd.set_option('display.max_colwidth', None)\n",
    "pd.set_option('display.max_rows', None)\n",
    "pd.set_option('display.width', None)\n",
    "#Configuramos pandas para que lanze valores con una precision de hasta 6 decimales\n",
    "pd.set_option('display.float_format', '{:.6f}'.format)"
   ]
  },
  {
   "cell_type": "markdown",
   "metadata": {
    "application/vnd.databricks.v1+cell": {
     "cellMetadata": {},
     "inputWidgets": {},
     "nuid": "95c7541f-3028-4e06-abf0-a15f656054ae",
     "showTitle": false,
     "title": ""
    }
   },
   "source": [
    "# 1. Mount Azure Data Lake using Service Principal\n",
    "#### Steps to follow\n",
    "1. Get client_id, tenant_id and client_secret from key vault\n",
    "2. Set Spark Config with App/ Client Id, Directory/ Tenant Id & Secret\n",
    "3. Call file system utlity mount to mount the storage\n",
    "4. Explore other file system utlities related to mount (list all mounts, unmount)"
   ]
  },
  {
   "cell_type": "markdown",
   "metadata": {
    "application/vnd.databricks.v1+cell": {
     "cellMetadata": {},
     "inputWidgets": {},
     "nuid": "12d98ed6-d9d0-49d8-a427-6fdc5bee19f6",
     "showTitle": false,
     "title": ""
    }
   },
   "source": [
    "Obtenemos las credenciales necesarias para montar un almacenamiento en Microsoft Data Lake"
   ]
  },
  {
   "cell_type": "code",
   "execution_count": 0,
   "metadata": {
    "application/vnd.databricks.v1+cell": {
     "cellMetadata": {
      "byteLimit": 2048000,
      "rowLimit": 10000
     },
     "inputWidgets": {},
     "nuid": "d6d7ac18-184c-44e2-b537-fc39818d91b4",
     "showTitle": false,
     "title": ""
    }
   },
   "outputs": [],
   "source": [
    "# #Get client_id, tenant_id and client_secret from key vault\n",
    "client_id = dbutils.secrets.get(scope = 'mlops-scope', key = 'mlops-app-client-id')\n",
    "tenant_id = dbutils.secrets.get(scope = 'mlops-scope', key = 'mlops-app-tenant-id')\n",
    "client_secret = dbutils.secrets.get(scope = 'mlops-scope', key = 'mlops-app-client-secret2')"
   ]
  },
  {
   "cell_type": "markdown",
   "metadata": {
    "application/vnd.databricks.v1+cell": {
     "cellMetadata": {},
     "inputWidgets": {},
     "nuid": "6d02257b-5e44-4769-b514-da20ae34d99e",
     "showTitle": false,
     "title": ""
    }
   },
   "source": [
    "Asignamos las variables necesariamos para montar algun Data Lake"
   ]
  },
  {
   "cell_type": "code",
   "execution_count": 0,
   "metadata": {
    "application/vnd.databricks.v1+cell": {
     "cellMetadata": {
      "byteLimit": 2048000,
      "rowLimit": 10000
     },
     "inputWidgets": {},
     "nuid": "08529587-4086-4ccc-9c83-402e9c0601e3",
     "showTitle": false,
     "title": ""
    }
   },
   "outputs": [],
   "source": [
    "#Set Spark Config with App/ Client Id, Directory/ Tenant Id & Secret\n",
    "configs = {\"fs.azure.account.auth.type\": \"OAuth\",\n",
    "           \"fs.azure.account.oauth.provider.type\": \"org.apache.hadoop.fs.azurebfs.oauth2.ClientCredsTokenProvider\",\n",
    "           \"fs.azure.account.oauth2.client.id\": client_id,\n",
    "           \"fs.azure.account.oauth2.client.secret\": client_secret,\n",
    "           \"fs.azure.account.oauth2.client.endpoint\": f\"https://login.microsoftonline.com/{tenant_id}/oauth2/token\"}"
   ]
  },
  {
   "cell_type": "markdown",
   "metadata": {
    "application/vnd.databricks.v1+cell": {
     "cellMetadata": {},
     "inputWidgets": {},
     "nuid": "46fec388-7216-44bb-8405-95650be70164",
     "showTitle": false,
     "title": ""
    }
   },
   "source": [
    "Montamos el almacenamiento de Data Lake que deseamos"
   ]
  },
  {
   "cell_type": "code",
   "execution_count": 0,
   "metadata": {
    "application/vnd.databricks.v1+cell": {
     "cellMetadata": {
      "byteLimit": 2048000,
      "rowLimit": 10000
     },
     "inputWidgets": {},
     "nuid": "c5b57230-ec23-41d7-bba6-f3370b056215",
     "showTitle": false,
     "title": ""
    }
   },
   "outputs": [],
   "source": [
    "#Call file system utlity mount to mount the storage\n",
    "dbutils.fs.mount(\n",
    "    source = \"abfss://presentation@datalakemlopsd4m.dfs.core.windows.net/\",\n",
    "    mount_point = \"/mnt/datalakemlopsd4m/presentation/\",\n",
    "    extra_configs = configs)"
   ]
  },
  {
   "cell_type": "code",
   "execution_count": 0,
   "metadata": {
    "application/vnd.databricks.v1+cell": {
     "cellMetadata": {
      "byteLimit": 2048000,
      "rowLimit": 10000
     },
     "inputWidgets": {},
     "nuid": "5fdd0054-ef8b-4d97-a7da-e92d8dbf199f",
     "showTitle": false,
     "title": ""
    }
   },
   "outputs": [],
   "source": [
    "#Verificas los puntos de montaje , realizados \n",
    "#dbutils.fs.mounts()  \n",
    "\n",
    "#Verificar que contenedores estan montados en el azure datalake\n",
    "#%fs mounts\n",
    "\n",
    "#Desmontar el Contenedor especifico\n",
    "#dbutils.fs.unmount(\"/mnt/datalakemlopsd4m/demo/\")\n",
    "\n",
    "#Ver cuales son los archivos que estan en el Directorio\n",
    "#display(dbutils.fs.ls(\"/mnt/datalakemlopsd4m/raw/marcobre/turno1/\"))\n",
    "\n",
    "#Revisar el el bd cargado apartir de spark\n",
    "#display(spark.read.csv(\"/mnt/datalakemlopsd4m/raw/marcobre/turno1/datos_turno1_vf.csv\", header=True))"
   ]
  },
  {
   "cell_type": "markdown",
   "metadata": {
    "application/vnd.databricks.v1+cell": {
     "cellMetadata": {},
     "inputWidgets": {},
     "nuid": "46303a45-57ee-43ad-8c08-69a844d9f6e2",
     "showTitle": false,
     "title": ""
    }
   },
   "source": [
    "# **2. Comprensión de los Datos(EDA) y Preprocesamiento de Datos**"
   ]
  },
  {
   "cell_type": "markdown",
   "metadata": {
    "application/vnd.databricks.v1+cell": {
     "cellMetadata": {},
     "inputWidgets": {},
     "nuid": "8a3f53bc-757a-4ae2-8312-8356c8a65fd0",
     "showTitle": false,
     "title": ""
    }
   },
   "source": [
    "### *2.1 Cargamos los datos desde el Storage (RAW) para realizar la comprension y preparacion de datos*"
   ]
  },
  {
   "cell_type": "code",
   "execution_count": 0,
   "metadata": {
    "application/vnd.databricks.v1+cell": {
     "cellMetadata": {
      "byteLimit": 2048000,
      "rowLimit": 10000
     },
     "inputWidgets": {},
     "nuid": "65a04d37-36f4-422c-8135-36e3296503a3",
     "showTitle": false,
     "title": ""
    }
   },
   "outputs": [],
   "source": [
    "import pandas as pd\n",
    "# Cargar el archivo CSV en un DataFrame de Spark\n",
    "datos_turno1 = spark.read.csv(\"/mnt/datalakemlopsd4m/raw/marcobre/turno1/datos_turno1_vf.csv\", header=True)\n",
    "datos_turno2 = spark.read.csv(\"/mnt/datalakemlopsd4m/raw/marcobre/turno1/datos_turno1_vf.csv\", header=True)\n",
    "\n",
    "# Convertir DataFrame de Spark a DataFrame de Pandas\n",
    "df_turno1 = datos_turno1.toPandas()\n",
    "df_turno2 = datos_turno2.toPandas()\n",
    "\n",
    "# Agregar columna \"turno\" con valor 1 y 2 al DataFrame df_turno1\n",
    "df_turno1['turno'] = 1\n",
    "df_turno2['turno'] = 2\n",
    "\n",
    "#Consolidar los datos del turno 1 y turno 2\n",
    "datos = pd.concat([df_turno1, df_turno2], ignore_index=True)\n",
    "\n",
    "# Ahora puedes manejar el DataFrame con Pandas\n",
    "# Por ejemplo, puedes usar funciones de Pandas como head(), describe(), etc.\n",
    "datos.head()"
   ]
  },
  {
   "cell_type": "markdown",
   "metadata": {
    "application/vnd.databricks.v1+cell": {
     "cellMetadata": {},
     "inputWidgets": {},
     "nuid": "2b3f65de-0217-4dfe-96c9-a60ae3eabc48",
     "showTitle": false,
     "title": ""
    }
   },
   "source": [
    "#### Paso Final (el DF final de pandas, debes convertirlo a un DF de SPARK, para que los datos limipios sean reflejados)"
   ]
  },
  {
   "cell_type": "markdown",
   "metadata": {
    "application/vnd.databricks.v1+cell": {
     "cellMetadata": {},
     "inputWidgets": {},
     "nuid": "660edc74-a4b7-441d-aa58-83e78567e5e1",
     "showTitle": false,
     "title": ""
    }
   },
   "source": [
    "1. Convertimos el df-pandas a un df-spark, para poder guardarlo en el Data Storage"
   ]
  },
  {
   "cell_type": "code",
   "execution_count": 0,
   "metadata": {
    "application/vnd.databricks.v1+cell": {
     "cellMetadata": {
      "byteLimit": 2048000,
      "rowLimit": 10000
     },
     "inputWidgets": {},
     "nuid": "d485f6cc-906f-4b31-b1d2-94a2c6feb9d4",
     "showTitle": false,
     "title": ""
    }
   },
   "outputs": [],
   "source": [
    "#Guardar luego de convertirlo a un DataFrame de Spark\n",
    "spark_datos = spark.createDataFrame(datos)"
   ]
  },
  {
   "cell_type": "markdown",
   "metadata": {
    "application/vnd.databricks.v1+cell": {
     "cellMetadata": {},
     "inputWidgets": {},
     "nuid": "96e16c61-ab16-465f-ada8-1725702fc57b",
     "showTitle": false,
     "title": ""
    }
   },
   "source": [
    "2. Convertimos el tipo de datos Void a String, para poder guardar en un archivo CSV (Data Storage)"
   ]
  },
  {
   "cell_type": "code",
   "execution_count": 0,
   "metadata": {
    "application/vnd.databricks.v1+cell": {
     "cellMetadata": {
      "byteLimit": 2048000,
      "rowLimit": 10000
     },
     "inputWidgets": {},
     "nuid": "63434025-e3ca-4a46-a825-14cecb4e3205",
     "showTitle": false,
     "title": ""
    }
   },
   "outputs": [],
   "source": [
    "from pyspark.sql.functions import when, col\n",
    "\n",
    "# Lista de todas las columnas\n",
    "columnas = spark_datos.columns\n",
    "\n",
    "# Convertir valores 'void' a cadena vacía ('') en todas las columnas que contienen 'void'\n",
    "for columna in columnas:\n",
    "    spark_datos = spark_datos.withColumn(\n",
    "        columna,\n",
    "        when(col(columna) == 'void', '').otherwise(col(columna))\n",
    "    )"
   ]
  },
  {
   "cell_type": "markdown",
   "metadata": {
    "application/vnd.databricks.v1+cell": {
     "cellMetadata": {},
     "inputWidgets": {},
     "nuid": "6a63518f-e148-4ad3-8b3d-257d2a26fcfa",
     "showTitle": false,
     "title": ""
    }
   },
   "source": [
    "3. Guardamos el df-spark en la ruta del Data Storage de Microsoft Azure"
   ]
  },
  {
   "cell_type": "code",
   "execution_count": 0,
   "metadata": {
    "application/vnd.databricks.v1+cell": {
     "cellMetadata": {
      "byteLimit": 2048000,
      "rowLimit": 10000
     },
     "inputWidgets": {},
     "nuid": "7a240571-204e-49d1-b958-087460983bc2",
     "showTitle": false,
     "title": ""
    }
   },
   "outputs": [],
   "source": [
    "# Ruta donde quieres guardar el archivo CSV en tu Azure Data Lake Storage\n",
    "ruta_guardado = \"/mnt/datalakemlopsd4m/raw/marcobre/datosraw/datostotalmarcobre.csv\"\n",
    "\n",
    "# Guardar el DataFrame en formato CSV en la ruta especificada\n",
    "spark_datos.write.csv(ruta_guardado, header=True, mode=\"overwrite\")\n",
    "#spark_datos.repartition(1).write.csv(ruta_guardado, header=True, mode=\"overwrite\") #Sirve para guardar solo en 1 partition csv"
   ]
  },
  {
   "cell_type": "markdown",
   "metadata": {
    "application/vnd.databricks.v1+cell": {
     "cellMetadata": {
      "byteLimit": 2048000,
      "rowLimit": 10000
     },
     "inputWidgets": {},
     "nuid": "85d7b384-0bb8-4640-8ff6-cb22c9194f60",
     "showTitle": false,
     "title": ""
    }
   },
   "source": [
    "4. Cargamos el CSV(Carpeta Spark) del Data Storage, para verificar que todo este OK (Tambien se convierte de dfSpark a dfPandas)"
   ]
  },
  {
   "cell_type": "markdown",
   "metadata": {
    "application/vnd.databricks.v1+cell": {
     "cellMetadata": {},
     "inputWidgets": {},
     "nuid": "b8c46a24-7df5-48e9-9f22-d4598013824a",
     "showTitle": false,
     "title": ""
    }
   },
   "source": [
    "4.1 Cargamos los datos desde un Archivo Parquet (Usamos Pyarrow)"
   ]
  },
  {
   "cell_type": "code",
   "execution_count": 0,
   "metadata": {
    "application/vnd.databricks.v1+cell": {
     "cellMetadata": {
      "byteLimit": 2048000,
      "rowLimit": 10000
     },
     "inputWidgets": {},
     "nuid": "eb4e2204-d088-4b37-bb78-ed49766cd1a5",
     "showTitle": false,
     "title": ""
    }
   },
   "outputs": [],
   "source": [
    "import pyarrow.parquet as pq\n",
    "\n",
    "ruta_carpeta_parquet = \"/dbfs/mnt/datalakemlopsd4m/raw/proyectopases_raw/fuentedatos_c4m/operacion_hudbay/bd_hubbay_pases_all.parquet\"\n",
    "tabla = pq.read_table(ruta_carpeta_parquet)\n",
    "\n",
    "# Convertir a DataFrame de pandas y mostrar las primeras filas\n",
    "datos = tabla.to_pandas()\n",
    "datos.head(1)"
   ]
  },
  {
   "cell_type": "code",
   "execution_count": 0,
   "metadata": {
    "application/vnd.databricks.v1+cell": {
     "cellMetadata": {
      "byteLimit": 2048000,
      "rowLimit": 10000
     },
     "inputWidgets": {},
     "nuid": "20bf3d7e-6740-463b-97c2-76b6a4243042",
     "showTitle": false,
     "title": ""
    }
   },
   "outputs": [],
   "source": [
    "datos.shape"
   ]
  },
  {
   "cell_type": "markdown",
   "metadata": {
    "application/vnd.databricks.v1+cell": {
     "cellMetadata": {},
     "inputWidgets": {},
     "nuid": "7e4343db-5338-46be-b3e5-8c69a95beb65",
     "showTitle": false,
     "title": ""
    }
   },
   "source": [
    "4.2 Leemos desde un CSV (usamos pyspark o pandas)"
   ]
  },
  {
   "cell_type": "code",
   "execution_count": 0,
   "metadata": {
    "application/vnd.databricks.v1+cell": {
     "cellMetadata": {
      "byteLimit": 2048000,
      "rowLimit": 10000
     },
     "inputWidgets": {},
     "nuid": "144d0b18-d4b7-49cb-921c-3b586261cd3e",
     "showTitle": false,
     "title": ""
    }
   },
   "outputs": [],
   "source": [
    "# import pandas as pd\n",
    "# import numpy as np\n",
    "# # Lee el archivo CSV en un DataFrame de Spark\n",
    "# ruta_carpeta_csv = \"/mnt/datalakemlopsd4m/raw/proyectopases_raw/fuentedatos_c4m/operacion_marcobre/datos_raw_marcobre_2024_04_08.csv\"\n",
    "# #ruta_carpeta_parquet = \"/mnt/datalakemlopsd4m/raw/proyectopases_raw/fuentedatos_c4m/operacion_hudbay/bd_hubbay_pases_all.parquet\"\n",
    "\n",
    "# df_spark = spark.read.option(\"header\", \"true\").csv(ruta_carpeta_csv)\n",
    "# #df_spark = spark.read.parquet(ruta_carpeta_parquet)\n",
    "\n",
    "# # Muestra los primeros registros del DataFrame de Spark Convertido a un DataFrame Pandas\n",
    "# df_pandas = df_spark.toPandas()\n",
    "# df_pandas.head(3)"
   ]
  },
  {
   "cell_type": "code",
   "execution_count": 0,
   "metadata": {
    "application/vnd.databricks.v1+cell": {
     "cellMetadata": {
      "byteLimit": 2048000,
      "rowLimit": 10000
     },
     "inputWidgets": {},
     "nuid": "5fdc01c6-e95a-4cab-82b2-dda8e1bb0653",
     "showTitle": false,
     "title": ""
    }
   },
   "outputs": [],
   "source": [
    "import pandas as pd\n",
    "import seaborn as sns\n",
    "import matplotlib.pyplot as plt\n",
    "import numpy as np \n",
    "\n",
    "# 3.Tratamiento de valores Nulos\n",
    "# 3.1 Supongamos que tienes un DataFrame llamado datos\n",
    "valores_nulos = datos.isnull().sum()\n",
    "valores_nulos_ordenados = valores_nulos.sort_values(ascending=False)\n",
    "porcentaje_nulos = (valores_nulos_ordenados / len(datos)) * 100\n",
    "columnas_a_eliminar = porcentaje_nulos[porcentaje_nulos > 80].index\n",
    "datos = datos.drop(columnas_a_eliminar, axis=1)\n",
    "\n",
    "#4. Tratamiento de variables \n",
    "#4.1 Eliminando columnas especificas que no aportan informacion ( # errors='ignore':ignore cualquier error si alguna de las columnas especificadas no se encuentra en el DataFrame.)\n",
    "datos = datos.drop(['tipoubicacionsupervisor_camion','tipoubicacionsupervisor_pala', 'id_cargadescarga_pases','dumpreal','loadreal', 'rownum'], axis=1, errors='ignore') # 'turno'\n",
    "\n",
    "# 3.2 Calcula la moda de 'has_block_pases' y Completa los valores nulos con la moda en la columna 'has_block_pases'\n",
    "moda_has_block_pases = datos['has_block_pases'].mode()[0]\n",
    "datos['has_block_pases'].fillna(moda_has_block_pases, inplace=True)\n",
    "\n",
    "# 3.3 Calcula la moda de 'tipodescargaidentifier' y completa los valores nulos con la moda en la columna 'tipodescargaidentifier'\n",
    "moda_tipodescargaidentifier = datos['tipodescargaidentifier'].mode()[0]\n",
    "datos['tipodescargaidentifier'].fillna(moda_tipodescargaidentifier, inplace=True)\n",
    "\n",
    "#4. Transformacion de Datos Tiempo a formato Datetime\n",
    "#4.1 Convertir las columnas a DateTime si aun no la estan\n",
    "# Lista de columnas que contienen fechas\n",
    "columnas_fecha = ['tiem_llegada_global', 'tiem_esperando', 'tiem_cuadra', \n",
    "                  'tiem_cuadrado', 'tiem_carga', 'tiem_acarreo', 'tiem_cola', \n",
    "                  'tiem_retro', 'tiem_listo', 'tiem_descarga', 'tiem_viajando', \n",
    "                  'tiempo_inicio_carga_carguio', 'tiempo_esperando_carguio', \n",
    "                  'previous_esperando_pala', 'tiempo_inicio_cambio_estado_camion', \n",
    "                  'tiempo_inicio_cambio_estado_pala']\n",
    "\n",
    "# 4.2 Convertir todas las fechas al mismo formato y eliminar valores Nulos de los DATETIME\n",
    "for columna in columnas_fecha:\n",
    "    datos[columna] = pd.to_datetime(datos[columna], errors='coerce') #Si hubiese una fecha con  Error, lo reemplaza con NAT\n",
    "# 4.3 Reemplazar los valores nulos con la fecha de la fila anterior más 3 segundos adicionales\n",
    "for columna in columnas_fecha:\n",
    "    mask_nat = datos[columna].isna()\n",
    "    datos[columna].loc[mask_nat] = datos[columna].fillna(method='ffill') + pd.to_timedelta(3, unit='s')\n",
    "# 4.4 Formatear las fechas en el formato deseado\n",
    "formato_deseado = \"%Y-%m-%d %H:%M:%S.%f%z\"  # Formato deseado\n",
    "for columna in columnas_fecha:\n",
    "    datos[columna] = datos[columna].dt.strftime(formato_deseado)\n",
    "    datos[columna] = pd.to_datetime(datos[columna])\n",
    "    datos[columna] = datos[columna] + pd.to_timedelta(999, unit='ms')\n",
    "\n",
    "\n",
    "# 3.4 Rellenar los valores nulos con ceros en todo el DataFrame\n",
    "datos = datos.fillna(0)\n",
    "\n",
    "#5. Eliminamos los filas duplicadas\n",
    "# 5.1. Identificar las columnas no de tipo 'object'\n",
    "columnas_no_object = datos.select_dtypes(exclude=['object']).columns\n",
    "\n",
    "# 5.2. Eliminar duplicados basados solo en las columnas no 'object'\n",
    "datos = datos.drop_duplicates(subset=columnas_no_object)\n",
    "\n",
    "# 6. Transformacion a Tipo de datos adecuado formato para las variables\n",
    "# 6.1 Diccionario para especificar los tipos de datos deseados para cada columna\n",
    "tipos_de_datos = {\n",
    "    'id_ciclo_acarreo': 'int64','id_cargadescarga': 'int64','id_palas': 'int64','id_equipo_camion': 'int64','id_ciclo_carguio': 'float64',\n",
    "    'id_equipo_carguio': 'float64','id_trabajador_pala': 'float64','id_guardia_realiza_carga_al_camion': 'float64','id_locacion': 'float64',\n",
    "    'id_poligono_se_obtiene_material': 'float64','tiempo_ready_cargando_pala': 'float64','tiempo_ready_esperando_pala': 'float64',\n",
    "    'cantidad_equipos_espera_al_termino_carga_pala': 'float64','id_estados_camion': 'int64','id_equipo_table_estados_camion': 'int64',\n",
    "    'id_detal_estado_camion': 'int64','tiempo_estimado_duracion_estado_camion': 'int64','en_campo_o_taller_mantenimiento_camion': 'int64',\n",
    "    'id_tipo_estad_camion': 'int64','id_estados_pala': 'float64','id_equipo_table_estados_pala': 'float64','id_detal_estado_pala': 'float64',\n",
    "    'tiempo_estimado_duracion_estado_pala': 'float64','en_campo_o_taller_mantenimiento_pala': 'float64','id_tipo_estad_pala': 'float64',\n",
    "    'id_descarga': 'int64','id_factor': 'int64','id_poligono': 'float64', \n",
    "    #'tiempo_ready_llegada_esperando': 'float64','tiempo_ready_esperando_cuadra': 'float64','tiempo_ready_cuadra_cuadrado': 'float64', #'tiempo_ready_cuadrado_cargado': 'float64','tiempo_ready_carga_acarreo': 'float64','tiempo_ready_acarreo_cola': 'float64',#'tiempo_ready_cola_retro': 'float64','tiempo_ready_retro_listo': 'float64','tiempo_ready_listo_descarga': 'float64',#'tiempo_ready_descarga_viajandovacio': 'float64',\n",
    "    'id_trabajador_camion': 'int64','id_palanext': 'int64','tonelajevims': 'float64','yn_estado': 'bool',\n",
    "    'id_guardia_hizocarga': 'int64','id_guardia_hizodescarga': 'int64','id_zona_aplicafactor': 'int64','id_zona_pertenece_poligono': 'float64',\n",
    "    'factor': 'int64','toneladas_secas': 'float64',\n",
    "    #'productividad_operativa_acarreo_tn_h': 'float64',\n",
    "    'productividad_operativa_carguio_tn_h': 'float64','efhcargado': 'float64','efhvacio': 'float64','distrealcargado': 'float64','distrealvacio': 'float64','coorxdesc': 'float64',\n",
    "    'coorydesc': 'float64','coorzdesc': 'float64','tipodescargaidentifier': 'float64','tonelajevvanterior': 'int64','tonelajevvposterior': 'float64','velocidadvimscargado': 'float64','velocidadvimsvacio': 'float64','velocidadgpscargado': 'float64','velocidadgpsvacio': 'float64','tonelajevimsretain': 'float64', 'nivelcombuscargado': 'float64','nivelcombusdescargado':'float64',\n",
    "    'volumen': 'float64','aplicafactor_vol': 'bool','coorzniveldescarga': 'float64','efh_factor_loaded': 'float64','efh_factor_empty':'float64',\n",
    "    'id_secundario': 'int64','id_principal': 'int64','capacidad_vol_equipo': 'float64','capacidad_pes_equipo': 'float64',\n",
    "    'capacidadtanque_equipo': 'int64','peso_bruto_equipo': 'float64','ishp_equipo': 'bool','ancho_equipo': 'int64','largo_equipo': 'int64',\n",
    "    'numeroejes_equipo': 'int64','id_turnos_turnocarga': 'int64','horaini_turnocarga': 'int64','horafin_turnocarga': 'int64',\n",
    "    'id_turnos_turnodescarga': 'int64','horaini_turnodescarga': 'int64','horafin_turnodescarga': 'int64',\n",
    "    'id_zona_encuentra_descarga': 'int64','id_nodo_carga': 'float64','id_nodo_descarga': 'int64',\n",
    "    'elevacion_descarga': 'int64','nivel_elevacion_locacion_mts': 'float64','radio_locacion': 'float64','id_material': 'float64',\n",
    "    'elevacion_poligono_mts': 'float64','densidad_poligono': 'float64','tonelaje_inicial_poligono': 'float64','id_pases': 'float64',\n",
    "    'id_palas_pases': 'float64','angulo_giro_promedio_pases': 'float64','has_block_pases': 'bool','capacidad_pes_equipo_carguio': 'float64', 'capacidad_vol_equipo_carguio': 'float64', 'tonelaje': 'int64',\n",
    "    'radiohexagonocuchara_equipo_carguio': 'int64' }\n",
    "\n",
    "# 6.2 Convertir las columnas al tipo de dato correspondiente\n",
    "for columna, tipo in tipos_de_datos.items():\n",
    "    datos[columna] = datos[columna].astype(tipo)\n",
    "\n",
    "# 8. Transformacion de datos, convercion de Tipo de datos a Booleano (True/False)\n",
    "# VARIABLE 1 \n",
    "# 8.1 Reemplazar '0' por la moda\n",
    "datos['termino_carga_equipo_en_espera_cuadrado_cuadrandose_carguio'] = datos['termino_carga_equipo_en_espera_cuadrado_cuadrandose_carguio'].replace(0,  datos['termino_carga_equipo_en_espera_cuadrado_cuadrandose_carguio'].mode().iloc[0])\n",
    "# 8.2 Reemplazar 'True' por True y 'False' por False , Paso crucial para antes de Convertir a DATOS BOOLEANO\n",
    "datos['termino_carga_equipo_en_espera_cuadrado_cuadrandose_carguio'] = datos['termino_carga_equipo_en_espera_cuadrado_cuadrandose_carguio'].replace({'True': True, 'False': False})\n",
    "# 8.3 Convertir la columna a tipo de datos booleano\n",
    "datos['termino_carga_equipo_en_espera_cuadrado_cuadrandose_carguio'] = datos['termino_carga_equipo_en_espera_cuadrado_cuadrandose_carguio'].astype(bool)\n",
    "\n",
    "# VARIABLE 2\n",
    "# 8.4 Reemplazar '0' por la moda\n",
    "datos['cambio_estado_operatividad_carguio'] =datos['cambio_estado_operatividad_carguio'].replace(0, datos['cambio_estado_operatividad_carguio'].mode().iloc[0])\n",
    "\n",
    "# 8.5 Reemplazar 'True' por True y 'False' por False , Paso crucial para antes de Convertir a DATOS BOOLEANO\n",
    "datos['cambio_estado_operatividad_carguio'] = datos['cambio_estado_operatividad_carguio'].replace({'True': True, 'False': False})\n",
    "\n",
    "# 8.6 Convertir la columna a tipo de datos booleano\n",
    "datos['cambio_estado_operatividad_carguio'] = datos['cambio_estado_operatividad_carguio'].astype(bool)\n",
    "\n",
    "\n",
    "# #pasar tonelajevims a toneladas\n",
    "datos['tonelajevims'] = datos['tonelajevims'] / 10\n",
    "\n",
    "\n",
    "# 9. Renombrar variables para mayor entendimiento del negocio\n",
    "# Define un diccionario con los nuevos nombres de las columnas solo para algunas columnas\n",
    "nuevos_nombres = {'id_cargadescarga' : 'id_cargadescarga_ciclo',\n",
    "    'termino_carga_equipo_en_espera_cuadrado_cuadrandose_carguio' : 'al_termino_cargar_en_espera_cuadrado_cuadrandose',\n",
    "    'id_descarga' : 'id_zona_hace_descarga',  \n",
    "    'tiem_llegada_global': 'tiempo_llegada_camion', 'tiem_esperando': 'tiempo_esperando_camion_en_locacion', \n",
    "    'tiem_cuadra': 'tiempo_cuadra_camion','tiem_cuadrado': 'tiempo_cuadrado_camion' , 'tiem_carga' : 'tiempo_cargar_al_camion', \n",
    "    'tiem_acarreo' : 'tiempo_acarreo_camion', 'tiem_cola': 'tiempo_cola_camion_en_zonadescarga','tiem_retro': 'tiempo_retroceso_para_descargar',\n",
    "    'tiem_listo' : 'tiempo_listo_para_descargar',  'tiem_descarga': 'tiempo_descarga_camion', 'tiem_viajando': 'tiempo_viajando_vacio_locacion', \n",
    "    'tonelaje':'tonelaje_nominal', 'tonelajevims':'tonelaje_segun_computadora', 'yn_estado': 'cambios_estado_en_ciclo',\n",
    "    'distrealcargado': 'distancia_recorrida_camioncargado_km_gps_mts', 'distrealvacio': 'distancia_recorrida_camionvacio_km_gps_mts' ,\n",
    "    'coorxdesc': 'coordenada_x_descarga_km', 'coorydesc': 'coordenada_y_descarga_km' , 'coorzdesc': 'coordenada_z_descarga_km',\n",
    "    'tipodescargaidentifier': 'tipo_descarga_efectuado', \n",
    "    'tonelajevvanterior': 'tonelaje_camion_viajevacio_cicloanterior_vims', 'tonelajevvposterior': 'tonelaje_camion_viajevacio_cicloactual_vims',\n",
    "    'velocidadvimscargado': 'promedio_velocidad_camioncargado_km/hr_compu', \n",
    "    'velocidadvimsvacio': 'promedio_velocidad_camionvacio_km/hr_compu',\n",
    "    'velocidadgpscargado':'promedio_velocidad_camioncargado_km/hr_gps', 'velocidadgpsvacio': 'promedio_velocidad_camionvacio_km/hr_gps', \n",
    "    'tonelajevimsretain': 'tonelaje_camion_antes_cargaestabilizada', 'nivelcombuscargado': 'porcentaje_combustible_camioncargando', \n",
    "    'nivelcombusdescargado':'porcentaje_combustible_camiondescargando', 'volumen': 'volumen_nominal', 'aplicafactor_vol': 'aplica_factor_volumen_o_tonelaje',\n",
    "    'coorzniveldescarga': 'nivel_descarga_metros', 'nombre_equipo':'nombre_equipo_acarreo', \n",
    "    'id_secundario':'id_flota_secundaria', 'flota_secundaria':'nombre_flota_secundaria', 'id_principal': 'id_flota_principal', 'flota_principal':'nombre_flota_principal',\n",
    "    'capacidad_vol_equipo': 'capacidad_en_volumen_equipo_acarreo_m3', 'capacidad_pes_equipo':'capacidad_en_peso_equipo_acarreo', 'capacidadtanque_equipo': 'capacidadtanque_equipoacarreo_galones',\n",
    "    'peso_bruto_equipo':'peso_bruto_equipo_acarreo', 'ishp_equipo':'si_no_equipo_altaprecision', 'ancho_equipo':'ancho_equipo_metros', 'largo_equipo':'largo_equipo_metros',\n",
    "    'elevacion_descarga':'nivel_elevacion_descarga_metros', 'nombre_descarga':'nombre_zona_descarga', \n",
    "    'nombre_carga_locacion':'nombre_locacion_carga', 'nivel_elevacion_locacion_mts':'nivel_elevacion_locacion_carga_metros', 'radio_locacion':'radio_locacion_metros',\n",
    "    'ids_poligonos_en_locacion':'ids_poligonos_en_locacion_carga', 'id_material': 'id_material_dominante_en_poligono', \n",
    "    'elevacion_poligono_mts':'elevacion_poligono_metros', 'ley_in':'lista_leyes', 'densidad_poligono':'densidad_inicial_poligono_creado_tn/m3',\n",
    "    'capacidad_vol_equipo_carguio' : 'capacidad_en_volumen_equipo_carguio_m3', 'capacidad_pes_equipo_carguio':'capacidad_en_peso_equipo_carguio', 'capacidadtanque_equipo_carguio': 'capacidadtanque_equipocarguio_galones',\n",
    "    'radiohexagonocuchara_equipo_carguio' : 'radiohexagonocuchara_equipocarguio', 'id_tablegen' : 'id_guardia_acarreocarga', 'nombre_tablegen' : 'nombre_guardia_acarreocarga', \n",
    "    'id_guardiadescarga': 'id_guardia_acarreodescarga', 'nombre_guardiadescarga':'nombre_guardia_acarreodescarga',\n",
    "    'id':'id_guardia_carguio', 'nombre': 'nombre_guardia_carguio', 'id_locacion' : 'id_locacion_hace_carga','tonelaje_inicial_poligono': 'tonelaje_inicial_poligono_creado',  'efhvacio':'efhvacio_mts', 'efhcargado':'efhcargado_mts'\n",
    "}\n",
    "# 9.1 Renombra las columnas del DataFrame\n",
    "datos = datos.rename(columns=nuevos_nombres)\n",
    "\n",
    "#10. Agregamos Nuevas variables calculadas\n",
    "#Agregamos la variable 'porcentaje_eficiencia_toneladas_movidas_acarreo'\n",
    "datos['porcentaje_eficiencia_toneladas_movidas_acarreo'] = (datos['tonelaje_segun_computadora'] / datos['tonelaje_nominal']) * 100\n",
    "\n",
    "#Agregamos la variable 'altura_elevacion'\n",
    "datos['altura_elevacion'] = abs(datos['nivel_elevacion_descarga_metros'] - datos['nivel_elevacion_locacion_carga_metros'] )\n",
    "\n",
    "# Agregamos la variable 'factor_perfil_rutavacio_mts'\n",
    "datos['factor_perfil_rutavacio'] = np.where(datos['distancia_recorrida_camionvacio_km_gps_mts'] != 0,\n",
    "                                            datos['efhvacio_mts'] / datos['distancia_recorrida_camionvacio_km_gps_mts'],\n",
    "                                            0)\n",
    "\n",
    "# Agregamos la variable 'factor_perfil_rutacargado_mts'\n",
    "datos['factor_perfil_rutacargado'] = np.where(datos['distancia_recorrida_camioncargado_km_gps_mts'] != 0,\n",
    "                                              datos['efhcargado_mts'] / datos['distancia_recorrida_camioncargado_km_gps_mts'],\n",
    "                                              0)\n",
    "\n",
    "# Agregamos la variable calculada \"numero_pases_carguio\" basado en la columna 'coord_x_pases'\n",
    "# datos['numero_pases_carguio'] = datos['coord_x_pases'].apply(lambda x: len(eval(x)) if isinstance(x, str) and '[' in x else x if isinstance(x, int) else 0)\n",
    "# Calcular el número de elementos en cada array y manejar arrays vacíos\n",
    "datos['numero_pases_carguio'] = datos['coord_x_pases'].apply(lambda x: len(x) if isinstance(x, np.ndarray) else 0)\n",
    "\n",
    "#Agregamos la variable Galones_diponible_camioncargando\n",
    "datos['Galones_disponibles_camioncargando'] = (datos['porcentaje_combustible_camioncargando']/100) * datos['capacidadtanque_equipoacarreo_galones']\n",
    "#datos['demanda_galones_camioncargando'] = (datos['porcentaje_combustible_camioncargando']/100) * datos['capacidadtanque_equipoacarreo_galones']\n",
    "\n",
    "#Agregar la variable Galones_diponible_camiondescargando \n",
    "datos['Galones_disponibles_camiondescargando'] = (datos['porcentaje_combustible_camiondescargando']/100) * datos['capacidadtanque_equipoacarreo_galones']\n",
    "\n",
    "#Agregar la variable Galones_consumidos_entre_cargando_descargando \n",
    "datos['Galones_consumidos_entre_cargando_descargando_acarreo'] = datos['Galones_disponibles_camioncargando'] - datos['Galones_disponibles_camiondescargando']\n",
    "\n",
    "\n",
    "# 11. Agregar mas filtros \n",
    "#11.1 Filtramos la fecha\n",
    "fecha_minima = '2023-01-01 00:00:00.999'\n",
    "datos=datos.sort_values(by='tiempo_inicio_carga_carguio') \n",
    "datos=datos[datos['tiempo_inicio_carga_carguio'] > fecha_minima]\n",
    "\n",
    "# 12. Calculo tonelaje por pase\n",
    "# Paso 1: Asegúrate de que todos los datos en 'tonelaje_pases' son cadenas de texto\n",
    "datos['tonelaje_pases'] = datos['tonelaje_pases'].astype(str)\n",
    "\n",
    "# Paso 2: Reemplazar espacios por comas en las cadenas de texto\n",
    "datos['tonelaje_pases'] = datos['tonelaje_pases'].apply(lambda x: x.replace(' ', ','))\n",
    "\n",
    "# Paso 3: Reemplazar cualquier carácter no numérico (excepto comas) por vacío\n",
    "datos['tonelaje_pases'] = datos['tonelaje_pases'].str.replace(r'[^\\d,]', '', regex=True)\n",
    "\n",
    "# Paso 4: Dividir las cadenas en columnas usando comas como delimitador\n",
    "tabla_datos2 = datos['tonelaje_pases'].str.split(',', expand=True)\n",
    "\n",
    "# Paso 5: Reemplazar valores vacíos por NaN y luego convertir a float\n",
    "tabla_datos2 = tabla_datos2.replace('', np.nan).astype(float)\n",
    "\n",
    "# Paso 6: Calcular la suma de los tonelajes por fila y dividir por 10\n",
    "datos['tonelaje_pases'] = tabla_datos2.sum(axis=1) / 10\n",
    "\n",
    "# Filtro \n",
    "# 13. Tratamiento de Valores Outliers (Numero de Pases)\n",
    "mask = datos['numero_pases_carguio'] >= 4\n",
    "datos = datos[mask]\n",
    "\n",
    "# 13. Reeemplzar Capacidad carguio != 0 (Numero de Pases)\n",
    "mask = datos['capacidad_en_peso_equipo_carguio']  != 0 \n",
    "datos = datos[mask]\n",
    " \n",
    "# Filtramos los tonelajes Vims (70% * capacidad de tolva) , para tener ciclos con pases \n",
    "mask = (datos['tonelaje_segun_computadora'] > 150)\n",
    "datos = datos[mask]\n",
    " \n",
    "# Filtramos los tonelajes por pases, que sean distintos de 0, en cada pase que se dio \n",
    "mask = datos['tonelaje_pases'] > 0\n",
    "datos = datos[mask]\n",
    " \n",
    "# Filtrar las tonaledas por pase. que los pases dados, sean superioes a (70%capacidad tolva) y menores al (125%capacidad tolva)\n",
    "mask = (datos['tonelaje_pases'] >= 180) & (datos['tonelaje_pases'] <= 400)\n",
    "datos = datos[mask]\n",
    " \n",
    "# # Filtramos la Procedencia de Material diferente de DES \n",
    "# mask = datos['Procedencia'] != 'DES'\n",
    "# datos = datos[mask]\n",
    " \n",
    "# Filtramos solo pases por encima de 4, y los configuramos con el tonelaje Vims \n",
    "mask = datos['numero_pases_carguio'] >= 4\n",
    "datos.loc[mask, 'numero_pases_carguio2'] = (datos[mask]['tonelaje_segun_computadora'] / datos[mask]['capacidad_en_peso_equipo_carguio']).round(0)\n",
    "\n",
    "\n",
    "# Paso 1: Cambiar 'DELAY' a 'READY' donde el estado no es 'DELAY' y 'numero_pases_carguio' es diferente de 0\n",
    "datos.loc[(datos['estado_primario_pala'] != 'DELAY'), 'estado_primario_pala'] = 'READY'\n",
    "\n",
    "# Paso 2: Cambiar 'DELAY' a 'READY' donde 'numero_pases_carguio' es diferente de 0\n",
    "datos.loc[(datos['estado_primario_pala'] == 'DELAY') & (datos['numero_pases_carguio'] > 0), 'estado_primario_pala'] = 'READY'\n",
    "\n",
    "# Paso 3: Filtrar solo los estados 'READY' (donde se efectuaron pases)\n",
    "datos = datos[(datos['estado_primario_pala'] == 'READY') & (datos['numero_pases_carguio'] > 0)]\n",
    "\n",
    "# Agregamos la variable 'tiempo de carga', cuanto demora el operador de carguio en realizar el carguio al camion de acarreo\n",
    "datos['tiempo_carga'] = (datos['tiempo_esperando_carguio'] - datos['tiempo_inicio_carga_carguio']).dt.total_seconds() #Pasas a segundos\n",
    "\n",
    "\n",
    "#4.1 Eliminando columnas especificas que no aportan informacion\n",
    "datos = datos.drop(['previous_esperando_pala','ids_poligonos_en_locacion_carga', 'estado_detalle_camion', 'estado_secundario_camion', 'estado_primario_camion', 'estado_detalle_pala',\n",
    "       'estado_secundario_pala', 'estado_primario_pala','nombre_equipo_acarreo', 'nombre_flota_secundaria','nombre_flota_principal', 'nombre_turnocarga',\n",
    "       'nombre_turnodescarga', 'nombre_zona_descarga', 'nombre_locacion_carga', 'nombre_poligono', 'lista_leyes', 'coord_x_pases', 'coord_y_pases', 'coord_z_pases', \n",
    "        'angulo_giro_pases', 'duracion_excavacion_pases'], axis=1, errors='ignore') # errors='ignore':ignore cualquier error si alguna de las columnas especificadas no se encuentra en el DataFrame.\n",
    "\n",
    "# Remover la zona horaria de las columnas datetime\n",
    "for col in ['tiempo_inicio_carga_carguio', 'tiempo_esperando_carguio', 'tiempo_inicio_cambio_estado_camion', \n",
    "            'tiempo_inicio_cambio_estado_pala', 'tiempo_llegada_camion', 'tiempo_esperando_camion_en_locacion',\n",
    "            'tiempo_cuadra_camion', 'tiempo_cuadrado_camion', 'tiempo_cargar_al_camion', 'tiempo_acarreo_camion',\n",
    "            'tiempo_cola_camion_en_zonadescarga', 'tiempo_retroceso_para_descargar', 'tiempo_listo_para_descargar',\n",
    "            'tiempo_descarga_camion', 'tiempo_viajando_vacio_locacion']:\n",
    "    if pd.api.types.is_datetime64tz_dtype(datos[col]):\n",
    "        datos[col] = datos[col].dt.tz_localize(None)"
   ]
  },
  {
   "cell_type": "code",
   "execution_count": 0,
   "metadata": {
    "application/vnd.databricks.v1+cell": {
     "cellMetadata": {
      "byteLimit": 2048000,
      "rowLimit": 10000
     },
     "inputWidgets": {},
     "nuid": "1a80ae81-9581-4898-89b3-5d04af52b16d",
     "showTitle": false,
     "title": ""
    }
   },
   "outputs": [],
   "source": [
    "datos.shape"
   ]
  },
  {
   "cell_type": "markdown",
   "metadata": {
    "application/vnd.databricks.v1+cell": {
     "cellMetadata": {},
     "inputWidgets": {},
     "nuid": "c522afc6-2b8f-433e-a602-cb3acf1a7608",
     "showTitle": false,
     "title": ""
    }
   },
   "source": [
    "#### Guardar los datos Preprocesados en una Tabla Delta en el Azure Data Storage"
   ]
  },
  {
   "cell_type": "code",
   "execution_count": 0,
   "metadata": {
    "application/vnd.databricks.v1+cell": {
     "cellMetadata": {
      "byteLimit": 2048000,
      "rowLimit": 10000
     },
     "inputWidgets": {},
     "nuid": "a3f5dc18-e29c-4f80-8ffa-a0b8a33e07d7",
     "showTitle": false,
     "title": ""
    }
   },
   "outputs": [],
   "source": [
    "# n Antes de Guardar convertir el df-pandas Preprocesado a un DataFrame de Spark\n",
    "spark_datos = spark.createDataFrame(datos)\n",
    "\n",
    "# Listar todas las bases de datos\n",
    "# spark.sql(\"SHOW DATABASES\").show(truncate=False )\n",
    "# n.1 Crear la base de datos si no existe en el almacenamiento de processed (en la ruta donde se almacenaran los datos preprocesados)\n",
    "# spark.sql(\"CREATE DATABASE IF NOT EXISTS dbproyectocongestion_processed LOCATION '/mnt/datalakemlopsd4m/processed/proyectopases_processed/operacion_hudbay/'\")\n",
    "\n",
    "# n.2 Si no recuerdas en que ruta se crearon esas BD SPARK, verifica asi: Reemplaza 'my_database_name' con el nombre de la base de datos que deseas consultar\n",
    "#database_name = \"proyectopases_processed\"\n",
    "# Consulta la ubicación de la base de datos\n",
    "#location_query = f\"DESCRIBE DATABASE {database_name}\"\n",
    "#spark.sql(location_query).show(truncate=False)\n",
    "\n",
    "# n.3 Guardamos los datos preprocesados en el Storage de Processed , en una Tabla DELTA\n",
    "#spark_datos.write.format(\"delta\").mode(\"overwrite\").saveAsTable(\"processed_db.datmarcobre_prepro2_delta\") #processed_db:Nombre de BD, datos_processed_delta:Nombre\n",
    "spark_datos.write.format(\"delta\").mode(\"overwrite\").saveAsTable(\"dbproyectopases_processed_hudbay.datos_procesados_hudbay_tabladelta\") #proyectopases_processed:Nombre_BD_creada"
   ]
  },
  {
   "cell_type": "code",
   "execution_count": 0,
   "metadata": {
    "application/vnd.databricks.v1+cell": {
     "cellMetadata": {
      "byteLimit": 2048000,
      "rowLimit": 10000
     },
     "inputWidgets": {},
     "nuid": "802bfbf7-dc3d-48d0-b940-3103bed1cb58",
     "showTitle": false,
     "title": ""
    }
   },
   "outputs": [],
   "source": [
    "#----------------------------------------------------------------------------------------------------------------------------------------------------------------------------"
   ]
  },
  {
   "cell_type": "markdown",
   "metadata": {
    "application/vnd.databricks.v1+cell": {
     "cellMetadata": {},
     "inputWidgets": {},
     "nuid": "5eb0a867-c69a-4d33-94a2-2cfbca4716fc",
     "showTitle": false,
     "title": ""
    }
   },
   "source": [
    "Transformacion de datos que tienen medidas distintas (ejemplo: cm, metros, km, etc)"
   ]
  },
  {
   "cell_type": "code",
   "execution_count": 0,
   "metadata": {
    "application/vnd.databricks.v1+cell": {
     "cellMetadata": {
      "byteLimit": 2048000,
      "rowLimit": 10000
     },
     "inputWidgets": {},
     "nuid": "61c1054b-41de-4e7d-93d3-f6a8dc73e991",
     "showTitle": false,
     "title": ""
    }
   },
   "outputs": [],
   "source": [
    "#pasar tonelajevims a toneladas\n",
    "datos['tonelajevims'] = datos['tonelajevims'] / 10\n",
    "\n",
    "#pasar efhcargado de centimetros a metros\n",
    "datos['efhcargado'] = datos['efhcargado'] / 100\n",
    "\n",
    "#pasar efhvacio de centimetros a metros\n",
    "datos['efhvacio'] = datos['efhvacio'] / 100\n",
    "\n",
    "#pasar distrealcargado de centimetros a metros\n",
    "datos['distrealcargado'] = datos['distrealcargado'] / 100\n",
    "\n",
    "#pasar distrealvacio de centimetros a metros\n",
    "datos['distrealvacio'] = datos['distrealvacio'] / 100\n",
    "\n",
    "#pasar coorxdesc de centimetros a Km\n",
    "datos['coorxdesc'] = datos['coorxdesc'] / 100000\n",
    "\n",
    "#pasar coorydesc de centimetros a Km\n",
    "datos['coorydesc'] = datos['coorydesc'] / 100000\n",
    "\n",
    "#pasar coorzdesc de centimetros a Km\n",
    "datos['coorzdesc'] = datos['coorzdesc'] / 100000\n",
    "\n",
    "#pasar velocidadvimscargado a  Km/hr\n",
    "datos['velocidadvimscargado'] = datos['velocidadvimscargado'] / 1000\n",
    "\n",
    "#pasar velocidadvimsvacio a  Km/hr\n",
    "datos['velocidadvimsvacio'] = datos['velocidadvimsvacio'] / 1000\n",
    "\n",
    "#pasar velocidadvimsvacio a  Km/hr\n",
    "datos['velocidadgpscargado'] = datos['velocidadgpscargado'] / 1000\n",
    "\n",
    "#pasar velocidadvimsvacio a  Km/hr\n",
    "datos['velocidadgpsvacio'] = datos['velocidadgpsvacio'] / 1000\n",
    "\n",
    "#pasar tonelajevimsretain a  toneladas\n",
    "datos['tonelajevimsretain'] = datos['tonelajevimsretain'] / 10\n",
    "\n",
    "#pasar coorzniveldescarga de centimetros a metros\n",
    "datos['coorzniveldescarga'] = datos['coorzniveldescarga'] / 100\n",
    "\n",
    "#pasar ancho_equipo de centimetros a metros\n",
    "datos['ancho_equipo'] = datos['ancho_equipo'] / 100\n",
    "\n",
    "#pasar largo_equipo de centimetros a metros\n",
    "datos['largo_equipo'] = datos['largo_equipo'] / 100\n",
    "\n",
    "#pasar tonelajevvanterior a toneladas\n",
    "datos['tonelajevvanterior'] = datos['tonelajevvanterior'] / 10\n",
    "\n",
    "#pasar tonelajevvposterior a toneladas\n",
    "datos['tonelajevvposterior'] = datos['tonelajevvposterior'] / 10"
   ]
  },
  {
   "cell_type": "code",
   "execution_count": 0,
   "metadata": {
    "application/vnd.databricks.v1+cell": {
     "cellMetadata": {
      "byteLimit": 2048000,
      "rowLimit": 10000
     },
     "inputWidgets": {},
     "nuid": "04522747-a5a9-483e-b178-0a240b97275f",
     "showTitle": false,
     "title": ""
    }
   },
   "outputs": [],
   "source": [
    "datos.shape"
   ]
  },
  {
   "cell_type": "code",
   "execution_count": 0,
   "metadata": {
    "application/vnd.databricks.v1+cell": {
     "cellMetadata": {
      "byteLimit": 2048000,
      "rowLimit": 10000
     },
     "inputWidgets": {},
     "nuid": "5cf5ddbe-a3db-483f-b40f-e12c4d44bb43",
     "showTitle": false,
     "title": ""
    }
   },
   "outputs": [],
   "source": [
    "datos['estado_primario_pala'].unique()"
   ]
  },
  {
   "cell_type": "code",
   "execution_count": 0,
   "metadata": {
    "application/vnd.databricks.v1+cell": {
     "cellMetadata": {
      "byteLimit": 2048000,
      "rowLimit": 10000
     },
     "inputWidgets": {},
     "nuid": "eee292c1-a0ba-4c06-9cfb-357fde76a02f",
     "showTitle": false,
     "title": ""
    }
   },
   "outputs": [],
   "source": [
    "datos['numero_pases_carguio'].unique()"
   ]
  },
  {
   "cell_type": "code",
   "execution_count": 0,
   "metadata": {
    "application/vnd.databricks.v1+cell": {
     "cellMetadata": {
      "byteLimit": 2048000,
      "rowLimit": 10000
     },
     "inputWidgets": {},
     "nuid": "b7ca9f5f-c0af-4874-a873-e55175ae3f2a",
     "showTitle": false,
     "title": ""
    }
   },
   "outputs": [],
   "source": [
    "datos['numero_pases_carguio2'].unique()"
   ]
  },
  {
   "cell_type": "code",
   "execution_count": 0,
   "metadata": {
    "application/vnd.databricks.v1+cell": {
     "cellMetadata": {
      "byteLimit": 2048000,
      "rowLimit": 10000
     },
     "inputWidgets": {},
     "nuid": "6fac44a4-f845-487a-96c4-0f443020d311",
     "showTitle": false,
     "title": ""
    }
   },
   "outputs": [],
   "source": [
    "datos[['coord_x_pases','numero_pases_carguio', 'tonelaje_segun_computadora','capacidad_en_peso_equipo_carguio','numero_pases_carguio2' ]].head(10)"
   ]
  },
  {
   "cell_type": "markdown",
   "metadata": {
    "application/vnd.databricks.v1+cell": {
     "cellMetadata": {},
     "inputWidgets": {},
     "nuid": "b56aef9a-bf88-47ef-96ab-f102b59b36c1",
     "showTitle": false,
     "title": ""
    }
   },
   "source": [
    "#### Guarda el df pandas directamente a una tabla delta, pero solo en una ruta de tu maquina local"
   ]
  },
  {
   "cell_type": "code",
   "execution_count": 0,
   "metadata": {
    "application/vnd.databricks.v1+cell": {
     "cellMetadata": {
      "byteLimit": 2048000,
      "rowLimit": 10000
     },
     "inputWidgets": {},
     "nuid": "314fd334-7048-45ca-9617-d383f3b52ae8",
     "showTitle": false,
     "title": ""
    }
   },
   "outputs": [],
   "source": [
    "# import os\n",
    "# from deltalake import DeltaTable\n",
    "# from deltalake.writer import write_deltalake\n",
    "\n",
    "# write_deltalake(\"tmp/some_delta_lake\", datos)"
   ]
  },
  {
   "cell_type": "markdown",
   "metadata": {
    "application/vnd.databricks.v1+cell": {
     "cellMetadata": {},
     "inputWidgets": {},
     "nuid": "6355b419-e769-4033-af29-0c5857c0aacf",
     "showTitle": false,
     "title": ""
    }
   },
   "source": [
    "## **3. Guardar los Datos procesados(spark df) apartir del storage RAW, en una tabla DELTA (hacia storage PROCESSED)**"
   ]
  },
  {
   "cell_type": "markdown",
   "metadata": {
    "application/vnd.databricks.v1+cell": {
     "cellMetadata": {},
     "inputWidgets": {},
     "nuid": "bc9a9da4-51b1-4775-9e2c-f47df83802d2",
     "showTitle": false,
     "title": ""
    }
   },
   "source": [
    "Montamos el almacenamiento Processed de Data Lake donde gaurdaremos estos datos si no esta"
   ]
  },
  {
   "cell_type": "code",
   "execution_count": 0,
   "metadata": {
    "application/vnd.databricks.v1+cell": {
     "cellMetadata": {
      "byteLimit": 2048000,
      "rowLimit": 10000
     },
     "inputWidgets": {},
     "nuid": "8bcd1c53-fbd2-4d67-b79f-d1d574a0202d",
     "showTitle": false,
     "title": ""
    }
   },
   "outputs": [],
   "source": [
    "#Call file system utlity mount to mount the storage\n",
    "# dbutils.fs.mount(\n",
    "#   source = \"abfss://processed@datalakemlopsd4m.dfs.core.windows.net/\",\n",
    "#   mount_point = \"/mnt/datalakemlopsd4m/processed/\",\n",
    "#   extra_configs = configs)"
   ]
  },
  {
   "cell_type": "markdown",
   "metadata": {
    "application/vnd.databricks.v1+cell": {
     "cellMetadata": {},
     "inputWidgets": {},
     "nuid": "e8712499-a7b5-4d78-ad41-d7067b3be738",
     "showTitle": false,
     "title": ""
    }
   },
   "source": [
    "Creamos la BD donde almacenaremos las Tables DELTA (Verificar si ya esta creada)"
   ]
  },
  {
   "cell_type": "code",
   "execution_count": 0,
   "metadata": {
    "application/vnd.databricks.v1+cell": {
     "cellMetadata": {
      "byteLimit": 2048000,
      "rowLimit": 10000
     },
     "inputWidgets": {},
     "nuid": "2d86a48d-6907-4d50-bf21-e5ede0ee511f",
     "showTitle": false,
     "title": ""
    }
   },
   "outputs": [],
   "source": [
    "# Crear la base de datos si no existe en el almacenamiento de PROCESSED\n",
    "spark.sql(\"CREATE DATABASE IF NOT EXISTS proyectopases_processed LOCATION '/mnt/datalakemlopsd4m/processed/proyectopases_processed/'\")"
   ]
  },
  {
   "cell_type": "code",
   "execution_count": 0,
   "metadata": {
    "application/vnd.databricks.v1+cell": {
     "cellMetadata": {
      "byteLimit": 2048000,
      "rowLimit": 10000
     },
     "inputWidgets": {},
     "nuid": "acd1b7af-cab1-4bc3-bf65-fb32cbc197c0",
     "showTitle": false,
     "title": ""
    }
   },
   "outputs": [],
   "source": [
    "# Listar todas las bases de datos\n",
    "spark.sql(\"SHOW DATABASES\").show()"
   ]
  },
  {
   "cell_type": "markdown",
   "metadata": {
    "application/vnd.databricks.v1+cell": {
     "cellMetadata": {},
     "inputWidgets": {},
     "nuid": "dbab3678-a688-4e8a-b29d-9c94f57360cd",
     "showTitle": false,
     "title": ""
    }
   },
   "source": [
    "### **Guardamos el df preprocesado en la tabla DELTA (datos_turno1_deltavf) dentro de la BD (processed_db)**"
   ]
  },
  {
   "cell_type": "code",
   "execution_count": 0,
   "metadata": {
    "application/vnd.databricks.v1+cell": {
     "cellMetadata": {},
     "inputWidgets": {},
     "nuid": "6d79b115-c26b-4071-ad82-018d98b97fe6",
     "showTitle": false,
     "title": ""
    }
   },
   "outputs": [],
   "source": [
    "spark_datos.write.format(\"delta\").mode(\"overwrite\").saveAsTable(\"processed_db.datos_processed_delta\")"
   ]
  },
  {
   "cell_type": "markdown",
   "metadata": {
    "application/vnd.databricks.v1+cell": {
     "cellMetadata": {},
     "inputWidgets": {},
     "nuid": "7bf9b825-51f6-45b4-b051-cf2816c697f0",
     "showTitle": false,
     "title": ""
    }
   },
   "source": [
    "Verificamos que se creo la Tabla DELTA en la BD adecuada"
   ]
  },
  {
   "cell_type": "code",
   "execution_count": 0,
   "metadata": {
    "application/vnd.databricks.v1+cell": {
     "cellMetadata": {
      "byteLimit": 2048000,
      "rowLimit": 10000
     },
     "inputWidgets": {},
     "nuid": "1e127c41-0e43-4dc4-a263-880f59da48bf",
     "showTitle": false,
     "title": ""
    }
   },
   "outputs": [],
   "source": [
    "# Listar todas las bases de datos\n",
    "#spark.sql(\"SHOW DATABASES\").show()\n",
    "\n",
    "# Listar las tablas en una base de datos específica (por ejemplo, processed_db)\n",
    "spark.sql(\"SHOW TABLES IN processed_db\").show()"
   ]
  }
 ],
 "metadata": {
  "application/vnd.databricks.v1+notebook": {
   "dashboards": [],
   "environmentMetadata": null,
   "language": "python",
   "notebookMetadata": {
    "mostRecentlyExecutedCommandWithImplicitDF": {
     "commandId": 2815797807006162,
     "dataframes": [
      "_sqldf"
     ]
    },
    "pythonIndentUnit": 4
   },
   "notebookName": "2.preprocessing",
   "widgets": {}
  }
 },
 "nbformat": 4,
 "nbformat_minor": 0
}
