{
 "cells": [
  {
   "cell_type": "markdown",
   "metadata": {
    "application/vnd.databricks.v1+cell": {
     "cellMetadata": {},
     "inputWidgets": {},
     "nuid": "3db42b8f-7f75-485d-8775-de36109671cd",
     "showTitle": false,
     "title": ""
    }
   },
   "source": [
    "# *1. Cargamos los datos desde el Storage (PROCESSED) \"Tabla DELTA\" para realizar la ingenieria de caracteristicas*"
   ]
  },
  {
   "cell_type": "code",
   "execution_count": 0,
   "metadata": {
    "application/vnd.databricks.v1+cell": {
     "cellMetadata": {
      "byteLimit": 2048000,
      "rowLimit": 10000
     },
     "inputWidgets": {},
     "nuid": "1d60b8ac-d778-4de8-a197-5441833ebd06",
     "showTitle": false,
     "title": ""
    }
   },
   "outputs": [],
   "source": [
    "df_delta = spark.read.format(\"delta\").load(\"/mnt/datalakemlopsd4m/processed/datmarcobre_prepro2_delta\")\n",
    "df_delta.show()"
   ]
  },
  {
   "cell_type": "markdown",
   "metadata": {
    "application/vnd.databricks.v1+cell": {
     "cellMetadata": {},
     "inputWidgets": {},
     "nuid": "40368899-1e28-4d91-bcdc-4a26137a14df",
     "showTitle": false,
     "title": ""
    }
   },
   "source": [
    "Convertimos el dataframe spark, a un DF de pandas, para realizar el trabajo"
   ]
  },
  {
   "cell_type": "code",
   "execution_count": 0,
   "metadata": {
    "application/vnd.databricks.v1+cell": {
     "cellMetadata": {
      "byteLimit": 2048000,
      "rowLimit": 10000
     },
     "inputWidgets": {},
     "nuid": "6c5635de-f7b5-4328-a10c-a320f4346896",
     "showTitle": false,
     "title": ""
    }
   },
   "outputs": [],
   "source": [
    "datos = df_delta.toPandas()\n",
    "datos.head()"
   ]
  },
  {
   "cell_type": "code",
   "execution_count": 0,
   "metadata": {
    "application/vnd.databricks.v1+cell": {
     "cellMetadata": {
      "byteLimit": 2048000,
      "rowLimit": 10000
     },
     "inputWidgets": {},
     "nuid": "6e4f4edf-7602-4d1a-b080-e8ac2e514381",
     "showTitle": false,
     "title": ""
    }
   },
   "outputs": [],
   "source": [
    "import pandas as pd\n",
    "pd.set_option('display.max_columns', None)\n",
    "pd.set_option('display.expand_frame_repr', False)\n",
    "pd.set_option('display.max_colwidth', None)\n",
    "pd.set_option('display.max_rows', None)\n",
    "pd.set_option('display.width', None)\n",
    "#Configuramos pandas para que lanze valores con una precision de hasta 6 decimales\n",
    "pd.set_option('display.float_format', '{:.6f}'.format)"
   ]
  },
  {
   "cell_type": "code",
   "execution_count": 0,
   "metadata": {
    "application/vnd.databricks.v1+cell": {
     "cellMetadata": {
      "byteLimit": 2048000,
      "rowLimit": 10000
     },
     "inputWidgets": {},
     "nuid": "34ed3c0d-ef6c-4434-ac08-b5f21683f400",
     "showTitle": false,
     "title": ""
    }
   },
   "outputs": [],
   "source": [
    "datos.dtypes"
   ]
  },
  {
   "cell_type": "markdown",
   "metadata": {
    "application/vnd.databricks.v1+cell": {
     "cellMetadata": {},
     "inputWidgets": {},
     "nuid": "7e208add-9a04-4e01-8b53-80ab0b053556",
     "showTitle": false,
     "title": ""
    }
   },
   "source": [
    "Filtramos solo las variables que usaremos en el proceso de ingenieria de caracteristicas"
   ]
  },
  {
   "cell_type": "code",
   "execution_count": 0,
   "metadata": {
    "application/vnd.databricks.v1+cell": {
     "cellMetadata": {
      "byteLimit": 2048000,
      "rowLimit": 10000
     },
     "inputWidgets": {},
     "nuid": "d858583c-beaa-4832-99bd-ee84d3b800f2",
     "showTitle": false,
     "title": ""
    }
   },
   "outputs": [],
   "source": [
    "# 1. Filtramos\n",
    "nuevos_nombres = {'radiohexagonocuchara_equipo_carguio' : 'radiohexagonocuchara_equipocarguio',\n",
    "    'capacidad_vol_equipo_carguio':'capacidad_en_volumen_equipo_carguio_m3', 'capacidad_pes_equipo_carguio':'capacidad_en_peso_equipo_carguio'}\n",
    "\n",
    "# Renombra las columnas del DataFrame\n",
    "datos = datos.rename(columns=nuevos_nombres)\n",
    "\n",
    "datos = datos[['tonelaje_inicial_poligono_creado',\n",
    "'radiohexagonocuchara_equipocarguio',\n",
    "'capacidad_en_volumen_equipo_carguio_m3',\n",
    "'capacidad_en_peso_equipo_carguio',\n",
    "'capacidad_en_peso_equipo_acarreo',\n",
    "'tiempo_estimado_duracion_estado_pala',\n",
    "'radio_locacion_metros',\n",
    "'tiempo_ready_llegada_esperando',\n",
    "'tiempo_ready_esperando_cuadra',\n",
    "'tonelaje_camion_antes_cargaestabilizada',\n",
    "'angulo_giro_promedio_pases', 'tonelaje_segun_computadora',\n",
    "'id_equipo_camion', 'id_equipo_carguio',\n",
    "'densidad_inicial_poligono_creado_tn/m3','numero_pases_carguio', 'productividad_operativa_acarreo_tn_h',\n",
    "'tiempo_llegada_camion',\n",
    "'tiempo_ready_cuadra_cuadrado',\n",
    "'tiempo_ready_cuadrado_cargado',\n",
    "'tiempo_ready_carga_acarreo',\n",
    "'tiempo_ready_acarreo_cola',\n",
    " 'tiempo_ready_cola_retro',\n",
    " 'tiempo_ready_retro_listo',\n",
    " 'tiempo_ready_listo_descarga',\n",
    " 'tiempo_ready_descarga_viajandovacio',\n",
    " 'tiempo_ready_cargando_pala',\n",
    " 'tiempo_ready_esperando_pala',\n",
    "'productividad_operativa_carguio_tn_h',\n",
    "'al_termino_cargar_en_espera_cuadrado_cuadrandose',\n",
    "'factor',\n",
    "'capacidad_en_volumen_equipo_acarreo_m3']]"
   ]
  },
  {
   "cell_type": "code",
   "execution_count": 0,
   "metadata": {
    "application/vnd.databricks.v1+cell": {
     "cellMetadata": {
      "byteLimit": 2048000,
      "rowLimit": 10000
     },
     "inputWidgets": {},
     "nuid": "5f8a0dd9-6887-4c31-bfa8-5eca49d8eb4f",
     "showTitle": false,
     "title": ""
    }
   },
   "outputs": [],
   "source": [
    "datos.shape"
   ]
  },
  {
   "cell_type": "code",
   "execution_count": 0,
   "metadata": {
    "application/vnd.databricks.v1+cell": {
     "cellMetadata": {
      "byteLimit": 2048000,
      "rowLimit": 10000
     },
     "inputWidgets": {},
     "nuid": "4877ee2c-3dce-450e-8b42-7d014bac3b02",
     "showTitle": false,
     "title": ""
    }
   },
   "outputs": [],
   "source": [
    "#- Redondeamos el valor del tonelaje inicial, a un solo decimal\n",
    "datos['tonelaje_inicial_poligono_creado'] = datos['tonelaje_inicial_poligono_creado'].round(1)\n",
    "\n",
    "#- Convertimos de float a int64 la variable id_equipo_carguio\n",
    "datos['id_equipo_carguio'] = datos['id_equipo_carguio'].round(0).astype('int64')"
   ]
  },
  {
   "cell_type": "code",
   "execution_count": 0,
   "metadata": {
    "application/vnd.databricks.v1+cell": {
     "cellMetadata": {
      "byteLimit": 2048000,
      "rowLimit": 10000
     },
     "inputWidgets": {},
     "nuid": "b3962794-ef35-4a42-a7c6-470d3ce4fbc2",
     "showTitle": false,
     "title": ""
    }
   },
   "outputs": [],
   "source": [
    "datos.head()"
   ]
  },
  {
   "cell_type": "code",
   "execution_count": 0,
   "metadata": {
    "application/vnd.databricks.v1+cell": {
     "cellMetadata": {
      "byteLimit": 2048000,
      "rowLimit": 10000
     },
     "inputWidgets": {},
     "nuid": "af1b53c3-7cdc-4be3-9904-86b4aff3b248",
     "showTitle": false,
     "title": ""
    }
   },
   "outputs": [],
   "source": [
    "%fs mounts"
   ]
  },
  {
   "cell_type": "markdown",
   "metadata": {
    "application/vnd.databricks.v1+cell": {
     "cellMetadata": {},
     "inputWidgets": {},
     "nuid": "5c4c11ec-b1ec-4b7e-b638-7a58e11db425",
     "showTitle": false,
     "title": ""
    }
   },
   "source": [
    "### Crear la BD dentro del Storage de Data Lake"
   ]
  },
  {
   "cell_type": "code",
   "execution_count": 0,
   "metadata": {
    "application/vnd.databricks.v1+cell": {
     "cellMetadata": {
      "byteLimit": 2048000,
      "rowLimit": 10000
     },
     "inputWidgets": {},
     "nuid": "9b9f1700-8065-405f-b713-ef52ec4d9e0c",
     "showTitle": false,
     "title": ""
    }
   },
   "outputs": [],
   "source": [
    "# Crear la base de datos si no existe en el almacenamiento de PROCESSED\n",
    "#spark.sql(\"CREATE DATABASE IF NOT EXISTS presentation_db LOCATION '/mnt/datalakemlopsd4m/presentation/'\")\n",
    "# n.1 Crear la base de datos si no existe en el almacenamiento de PRESENTATION\n",
    "spark.sql(\"CREATE DATABASE IF NOT EXISTS proyectopases_presentation LOCATION '/mnt/datalakemlopsd4m/presentation/proyectopases_presentation/'\")"
   ]
  },
  {
   "cell_type": "code",
   "execution_count": 0,
   "metadata": {
    "application/vnd.databricks.v1+cell": {
     "cellMetadata": {
      "byteLimit": 2048000,
      "rowLimit": 10000
     },
     "inputWidgets": {},
     "nuid": "51b13350-1e3e-4c0e-a629-a1cf1da4b8e3",
     "showTitle": false,
     "title": ""
    }
   },
   "outputs": [],
   "source": [
    "spark.sql(\"SHOW DATABASES\").show()"
   ]
  },
  {
   "cell_type": "code",
   "execution_count": 0,
   "metadata": {
    "application/vnd.databricks.v1+cell": {
     "cellMetadata": {
      "byteLimit": 2048000,
      "rowLimit": 10000
     },
     "inputWidgets": {},
     "nuid": "7eb3411c-62de-4771-b8c1-5af1961def66",
     "showTitle": false,
     "title": ""
    }
   },
   "outputs": [],
   "source": [
    "# n Antes de Guardar convertir el df-pandas Preprocesado a un DataFrame de Spark\n",
    "spark_datos = spark.createDataFrame(datos)\n",
    "\n",
    "# n.1 Guardamos los datos preprocesados en el Storage de Processed , en una Tabla DELTA\n",
    "spark_datos.write.format(\"delta\").mode(\"overwrite\").saveAsTable(\"presentation_db.datmarcobre_ingcaractv2_delta\") #presentation:Nombre de BD y datos_processed_delta:Nombre"
   ]
  }
 ],
 "metadata": {
  "application/vnd.databricks.v1+notebook": {
   "dashboards": [],
   "environmentMetadata": null,
   "language": "python",
   "notebookMetadata": {
    "mostRecentlyExecutedCommandWithImplicitDF": {
     "commandId": 807015446282190,
     "dataframes": [
      "_sqldf"
     ]
    },
    "pythonIndentUnit": 4
   },
   "notebookName": "3.feature_engineer",
   "widgets": {}
  }
 },
 "nbformat": 4,
 "nbformat_minor": 0
}
